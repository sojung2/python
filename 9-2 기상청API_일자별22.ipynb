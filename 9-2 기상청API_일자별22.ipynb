{
 "cells": [
  {
   "cell_type": "code",
   "execution_count": 72,
   "metadata": {},
   "outputs": [
    {
     "ename": "ModuleNotFoundError",
     "evalue": "No module named 'tqdm'",
     "output_type": "error",
     "traceback": [
      "\u001b[0;31m---------------------------------------------------------------------------\u001b[0m",
      "\u001b[0;31mModuleNotFoundError\u001b[0m                       Traceback (most recent call last)",
      "Cell \u001b[0;32mIn[72], line 5\u001b[0m\n\u001b[1;32m      3\u001b[0m \u001b[39mimport\u001b[39;00m \u001b[39mpandas\u001b[39;00m \u001b[39mas\u001b[39;00m \u001b[39mpd\u001b[39;00m\n\u001b[1;32m      4\u001b[0m \u001b[39mimport\u001b[39;00m \u001b[39mjson\u001b[39;00m\n\u001b[0;32m----> 5\u001b[0m \u001b[39mimport\u001b[39;00m \u001b[39mtqdm\u001b[39;00m\n",
      "\u001b[0;31mModuleNotFoundError\u001b[0m: No module named 'tqdm'"
     ]
    }
   ],
   "source": [
    "# 1. 모듈 연결하기\n",
    "import requests\n",
    "import pandas as pd\n",
    "import json"
   ]
  },
  {
   "cell_type": "code",
   "execution_count": 33,
   "metadata": {},
   "outputs": [],
   "source": [
    "# 2. 기본정보 설정\n",
    "url = 'http://apis.data.go.kr/1360000/AsosDalyInfoService/getWthrDataList'\n",
    "params ={'serviceKey' : 'V2soxVa/BMDzYDIk9IbGZTgcZeSQ6GIdaZnsBoez7GPAUwIQ/6MT/jyI5mtbTgXy24zNvlE9d5/EF0Y0YoKoNQ==', \n",
    "         'pageNo' : '1', \n",
    "         'numOfRows' : '10', \n",
    "         'dataType' : 'JSON', \n",
    "         'dataCd' : 'ASOS', \n",
    "         'dateCd' : 'DAY', \n",
    "         'startDt' : '20100101', \n",
    "         'endDt' : '20100806', \n",
    "         'stnIds' : '108' }"
   ]
  },
  {
   "cell_type": "code",
   "execution_count": 34,
   "metadata": {},
   "outputs": [],
   "source": [
    "def loc_code_sch(loc_name):\n",
    "    loc_code = pd.read_csv('./기상청위치코드.csv', encoding='utf-8')\n",
    "    loc_code=loc_code[loc_code['지점명']==loc_name]['지점'].values[0]\n",
    "    return str(loc_code)"
   ]
  },
  {
   "cell_type": "code",
   "execution_count": 35,
   "metadata": {},
   "outputs": [
    {
     "ename": "IndexError",
     "evalue": "index 0 is out of bounds for axis 0 with size 0",
     "output_type": "error",
     "traceback": [
      "\u001b[0;31m---------------------------------------------------------------------------\u001b[0m",
      "\u001b[0;31mIndexError\u001b[0m                                Traceback (most recent call last)",
      "Cell \u001b[0;32mIn[35], line 5\u001b[0m\n\u001b[1;32m      3\u001b[0m endDT\u001b[39m=\u001b[39m \u001b[39minput\u001b[39m(\u001b[39m'\u001b[39m\u001b[39m종료일자를 입력하세요(yyyymmdd): \u001b[39m\u001b[39m'\u001b[39m)\n\u001b[1;32m      4\u001b[0m location\u001b[39m=\u001b[39m \u001b[39minput\u001b[39m(\u001b[39m'\u001b[39m\u001b[39m지역을 입력하세요: \u001b[39m\u001b[39m'\u001b[39m)\n\u001b[0;32m----> 5\u001b[0m loc_code\u001b[39m=\u001b[39mloc_code_sch(location)\n",
      "Cell \u001b[0;32mIn[34], line 3\u001b[0m, in \u001b[0;36mloc_code_sch\u001b[0;34m(loc_name)\u001b[0m\n\u001b[1;32m      1\u001b[0m \u001b[39mdef\u001b[39;00m \u001b[39mloc_code_sch\u001b[39m(loc_name):\n\u001b[1;32m      2\u001b[0m     loc_code \u001b[39m=\u001b[39m pd\u001b[39m.\u001b[39mread_csv(\u001b[39m'\u001b[39m\u001b[39m./기상청위치코드.csv\u001b[39m\u001b[39m'\u001b[39m, encoding\u001b[39m=\u001b[39m\u001b[39m'\u001b[39m\u001b[39mutf-8\u001b[39m\u001b[39m'\u001b[39m)\n\u001b[0;32m----> 3\u001b[0m     loc_code\u001b[39m=\u001b[39mloc_code[loc_code[\u001b[39m'\u001b[39;49m\u001b[39m지점명\u001b[39;49m\u001b[39m'\u001b[39;49m]\u001b[39m==\u001b[39;49mloc_name][\u001b[39m'\u001b[39;49m\u001b[39m지점\u001b[39;49m\u001b[39m'\u001b[39;49m]\u001b[39m.\u001b[39;49mvalues[\u001b[39m0\u001b[39;49m]\n\u001b[1;32m      4\u001b[0m     \u001b[39mreturn\u001b[39;00m \u001b[39mstr\u001b[39m(loc_code)\n",
      "\u001b[0;31mIndexError\u001b[0m: index 0 is out of bounds for axis 0 with size 0"
     ]
    }
   ],
   "source": [
    "# 사용자 검색옵션 입력 및 지역 코드 확인 \n",
    "startDT = input('시작일자를 입력하세요(yyyymmdd): ')\n",
    "endDT= input('종료일자를 입력하세요(yyyymmdd): ')\n",
    "location= input('지역을 입력하세요: ')\n",
    "loc_code=loc_code_sch(location)"
   ]
  },
  {
   "cell_type": "code",
   "execution_count": 36,
   "metadata": {},
   "outputs": [
    {
     "data": {
      "text/plain": [
       "{'serviceKey': 'V2soxVa/BMDzYDIk9IbGZTgcZeSQ6GIdaZnsBoez7GPAUwIQ/6MT/jyI5mtbTgXy24zNvlE9d5/EF0Y0YoKoNQ==',\n",
       " 'pageNo': '1',\n",
       " 'numOfRows': '10',\n",
       " 'dataType': 'JSON',\n",
       " 'dataCd': 'ASOS',\n",
       " 'dateCd': 'DAY',\n",
       " 'startDt': '',\n",
       " 'endDt': '20230101',\n",
       " 'stnIds': '108'}"
      ]
     },
     "execution_count": 36,
     "metadata": {},
     "output_type": "execute_result"
    }
   ],
   "source": [
    "#4. 사용자가 입력받은 조건으로 기상청에 데이터 요청하기 \n",
    "params['startDt'] = startDT\n",
    "params['endDt'] = endDT\n",
    "params['stnIds'] = loc_code\n",
    "\n",
    "params"
   ]
  },
  {
   "cell_type": "code",
   "execution_count": 40,
   "metadata": {},
   "outputs": [
    {
     "data": {
      "text/plain": [
       "{'response': {'header': {'resultCode': '02', 'resultMsg': 'DB_ERROR'}}}"
      ]
     },
     "execution_count": 40,
     "metadata": {},
     "output_type": "execute_result"
    }
   ],
   "source": [
    "# 5. 기상청 조회 일자별 데이터 가져오기\n",
    "response = requests.get(url, params=params)\n",
    "\n",
    "weather = json.loads(response.content)\n",
    "weather"
   ]
  },
  {
   "cell_type": "code",
   "execution_count": 41,
   "metadata": {},
   "outputs": [
    {
     "ename": "KeyError",
     "evalue": "'body'",
     "output_type": "error",
     "traceback": [
      "\u001b[0;31m---------------------------------------------------------------------------\u001b[0m",
      "\u001b[0;31mKeyError\u001b[0m                                  Traceback (most recent call last)",
      "Cell \u001b[0;32mIn[41], line 2\u001b[0m\n\u001b[1;32m      1\u001b[0m \u001b[39m#6. 전체 조회데이터 건수를 이용한 데이터 한페이지 출력 \u001b[39;00m\n\u001b[0;32m----> 2\u001b[0m params[\u001b[39m'\u001b[39m\u001b[39mnumOfRows\u001b[39m\u001b[39m'\u001b[39m] \u001b[39m=\u001b[39m weather[\u001b[39m'\u001b[39;49m\u001b[39mresponse\u001b[39;49m\u001b[39m'\u001b[39;49m][\u001b[39m'\u001b[39;49m\u001b[39mbody\u001b[39;49m\u001b[39m'\u001b[39;49m][\u001b[39m'\u001b[39m\u001b[39mtotalCount\u001b[39m\u001b[39m'\u001b[39m]\n\u001b[1;32m      3\u001b[0m response \u001b[39m=\u001b[39m requests\u001b[39m.\u001b[39mget(url, params\u001b[39m=\u001b[39mparams)\n\u001b[1;32m      5\u001b[0m weather \u001b[39m=\u001b[39m json\u001b[39m.\u001b[39mloads(response\u001b[39m.\u001b[39mcontent)\n",
      "\u001b[0;31mKeyError\u001b[0m: 'body'"
     ]
    }
   ],
   "source": [
    "#6. 전체 조회데이터 건수를 이용한 데이터 한페이지 출력 \n",
    "params['numOfRows'] = weather['response']['body']['totalCount']\n",
    "response = requests.get(url, params=params)\n",
    "\n",
    "weather = json.loads(response.content)\n",
    "weather['response']['body']['items']['item'][0]"
   ]
  },
  {
   "cell_type": "code",
   "execution_count": 27,
   "metadata": {},
   "outputs": [
    {
     "ename": "NameError",
     "evalue": "name 'weather' is not defined",
     "output_type": "error",
     "traceback": [
      "\u001b[0;31m---------------------------------------------------------------------------\u001b[0m",
      "\u001b[0;31mNameError\u001b[0m                                 Traceback (most recent call last)",
      "Cell \u001b[0;32mIn[27], line 2\u001b[0m\n\u001b[1;32m      1\u001b[0m \u001b[39m#7. 분석에 필요한 데이터 추출 \u001b[39;00m\n\u001b[0;32m----> 2\u001b[0m weather_df \u001b[39m=\u001b[39m pd\u001b[39m.\u001b[39mDataFrame(weather[\u001b[39m'\u001b[39m\u001b[39mresponse\u001b[39m\u001b[39m'\u001b[39m][\u001b[39m'\u001b[39m\u001b[39mbody\u001b[39m\u001b[39m'\u001b[39m][\u001b[39m'\u001b[39m\u001b[39mitems\u001b[39m\u001b[39m'\u001b[39m][\u001b[39m'\u001b[39m\u001b[39mitem\u001b[39m\u001b[39m'\u001b[39m])\n\u001b[1;32m      3\u001b[0m weather_df\u001b[39m.\u001b[39mhead(\u001b[39m3\u001b[39m)\n",
      "\u001b[0;31mNameError\u001b[0m: name 'weather' is not defined"
     ]
    }
   ],
   "source": [
    "#7. 분석에 필요한 데이터 추출 \n",
    "weather_df = pd.DataFrame(weather['response']['body']['items']['item'])\n",
    "weather_df.head(3)"
   ]
  },
  {
   "cell_type": "code",
   "execution_count": 29,
   "metadata": {},
   "outputs": [
    {
     "ename": "NameError",
     "evalue": "name 'weather_df' is not defined",
     "output_type": "error",
     "traceback": [
      "\u001b[0;31m---------------------------------------------------------------------------\u001b[0m",
      "\u001b[0;31mNameError\u001b[0m                                 Traceback (most recent call last)",
      "Cell \u001b[0;32mIn[29], line 2\u001b[0m\n\u001b[1;32m      1\u001b[0m \u001b[39m#8 문서에 필요한 데이터 추출 \u001b[39;00m\n\u001b[0;32m----> 2\u001b[0m wt_df \u001b[39m=\u001b[39m weather_df[[\u001b[39m'\u001b[39m\u001b[39mtm\u001b[39m\u001b[39m'\u001b[39m,\u001b[39m'\u001b[39m\u001b[39mstnNm\u001b[39m\u001b[39m'\u001b[39m,\u001b[39m'\u001b[39m\u001b[39mavgTa\u001b[39m\u001b[39m'\u001b[39m,\u001b[39m'\u001b[39m\u001b[39mminTa\u001b[39m\u001b[39m'\u001b[39m,\u001b[39m'\u001b[39m\u001b[39mmaxTa\u001b[39m\u001b[39m'\u001b[39m,\u001b[39m'\u001b[39m\u001b[39msumRn\u001b[39m\u001b[39m'\u001b[39m]]\n\u001b[1;32m      3\u001b[0m wt_df\u001b[39m.\u001b[39mhead()\n",
      "\u001b[0;31mNameError\u001b[0m: name 'weather_df' is not defined"
     ]
    }
   ],
   "source": [
    "#8 문서에 필요한 데이터 추출 \n",
    "wt_df = weather_df[['tm','stnNm','avgTa','minTa','maxTa','sumRn']].copy()\n",
    "wt_df.info()"
   ]
  },
  {
   "cell_type": "code",
   "execution_count": 42,
   "metadata": {},
   "outputs": [],
   "source": [
    "#지점명을 이용한 지점코드 찾기 \n",
    "def loc_code_sch(loc_name):\n",
    "    loc_code = pd.read_csv('./기상청위치코드.csv', encoding ='utf-8')\n",
    "    loc_code = loc_code[loc_code['지점명'] == loc_name]['지점'].values[0]\n",
    "    return str(loc_code)"
   ]
  },
  {
   "cell_type": "code",
   "execution_count": 50,
   "metadata": {},
   "outputs": [],
   "source": [
    "### 기상청 api를 이용한 전체데이터(1904~)가져오기\n",
    "\n",
    "def weather_api(loc_name, startDt, endDt, stnIds, numOfRows=10):\n",
    "    \n",
    "    #지역명으로 지점코드 조회 \n",
    "    stnIds = loc_code_sch(loc_name)\n",
    "    \n",
    "    # 기상청 api 호출을 위한 기본정보 설정\n",
    "    url = 'http://apis.data.go.kr/1360000/AsosDalyInfoService/getWthrDataList'\n",
    "    params ={'serviceKey' : 'V2soxVa/BMDzYDIk9IbGZTgcZeSQ6GIdaZnsBoez7GPAUwIQ/6MT/jyI5mtbTgXy24zNvlE9d5/EF0Y0YoKoNQ==', \n",
    "         'pageNo' : '1', \n",
    "         'numOfRows' : numOfRows, \n",
    "         'dataType' : 'JSON', \n",
    "         'dataCd' : 'ASOS', \n",
    "         'dateCd' : 'DAY', \n",
    "         'startDt' : startDt, \n",
    "         'endDt' : endDt, \n",
    "         'stnIds' : stnIds }\n",
    "    \n",
    "    #기상청 데이터 조회 \n",
    "    response = requests.get(url, params=params) #api 호출 \n",
    "    if response.status_code != 200:\n",
    "         exit('API 호출 에러 발생')\n",
    "         \n",
    "    weather_res = json.loads(response.content)\n",
    "    return weather_res # 결과반환 "
   ]
  },
  {
   "cell_type": "code",
   "execution_count": 51,
   "metadata": {},
   "outputs": [
    {
     "ename": "TypeError",
     "evalue": "weather_api() missing 1 required positional argument: 'stnIds'",
     "output_type": "error",
     "traceback": [
      "\u001b[0;31m---------------------------------------------------------------------------\u001b[0m",
      "\u001b[0;31mTypeError\u001b[0m                                 Traceback (most recent call last)",
      "Cell \u001b[0;32mIn[51], line 6\u001b[0m\n\u001b[1;32m      3\u001b[0m endDT\u001b[39m=\u001b[39m \u001b[39minput\u001b[39m(\u001b[39m'\u001b[39m\u001b[39m종료일자를 입력하세요(yyyymmdd): \u001b[39m\u001b[39m'\u001b[39m)\n\u001b[1;32m      4\u001b[0m loc_name\u001b[39m=\u001b[39m \u001b[39minput\u001b[39m(\u001b[39m'\u001b[39m\u001b[39m지역을 입력하세요: \u001b[39m\u001b[39m'\u001b[39m)\n\u001b[0;32m----> 6\u001b[0m weather_res \u001b[39m=\u001b[39m weather_api(loc_name, startDT, endDT)\n\u001b[1;32m      7\u001b[0m numOfRows \u001b[39m=\u001b[39m weather_res[\u001b[39m'\u001b[39m\u001b[39mresponse\u001b[39m\u001b[39m'\u001b[39m][\u001b[39m'\u001b[39m\u001b[39mbody\u001b[39m\u001b[39m'\u001b[39m][\u001b[39m'\u001b[39m\u001b[39mtotalCount\u001b[39m\u001b[39m'\u001b[39m]\n\u001b[1;32m      9\u001b[0m weather_res \u001b[39m=\u001b[39m weather_api(loc_name, startDT, endDT, numOfRows)\n",
      "\u001b[0;31mTypeError\u001b[0m: weather_api() missing 1 required positional argument: 'stnIds'"
     ]
    }
   ],
   "source": [
    "# 최초 데이터 요청 \n",
    "startDT = input('시작일자를 입력하세요(yyyymmdd): ')\n",
    "endDT= input('종료일자를 입력하세요(yyyymmdd): ')\n",
    "loc_name= input('지역을 입력하세요: ')\n",
    "\n",
    "weather_res = weather_api(loc_name, startDT, endDT)\n",
    "numOfRows = weather_res['response']['body']['totalCount']\n",
    "\n",
    "weather_res = weather_api(loc_name, startDT, endDT, numOfRows)\n",
    "weather_df = pd.DataFrame(weather_res['response']['body']['items']['item'])\n",
    "weather_df.info()"
   ]
  },
  {
   "cell_type": "code",
   "execution_count": 58,
   "metadata": {},
   "outputs": [
    {
     "data": {
      "text/plain": [
       "DatetimeIndex(['1960-01-31', '1961-01-31', '1962-01-31', '1963-01-31',\n",
       "               '1964-01-31', '1965-01-31', '1966-01-31', '1967-01-31',\n",
       "               '1968-01-31', '1969-01-31', '1970-01-31', '1971-01-31',\n",
       "               '1972-01-31', '1973-01-31', '1974-01-31', '1975-01-31',\n",
       "               '1976-01-31', '1977-01-31', '1978-01-31', '1979-01-31',\n",
       "               '1980-01-31', '1981-01-31', '1982-01-31', '1983-01-31',\n",
       "               '1984-01-31', '1985-01-31', '1986-01-31', '1987-01-31',\n",
       "               '1988-01-31', '1989-01-31', '1990-01-31', '1991-01-31',\n",
       "               '1992-01-31', '1993-01-31', '1994-01-31', '1995-01-31',\n",
       "               '1996-01-31', '1997-01-31', '1998-01-31', '1999-01-31',\n",
       "               '2000-01-31', '2001-01-31', '2002-01-31', '2003-01-31',\n",
       "               '2004-01-31', '2005-01-31', '2006-01-31', '2007-01-31',\n",
       "               '2008-01-31', '2009-01-31', '2010-01-31', '2011-01-31',\n",
       "               '2012-01-31', '2013-01-31', '2014-01-31', '2015-01-31',\n",
       "               '2016-01-31', '2017-01-31', '2018-01-31', '2019-01-31',\n",
       "               '2020-01-31', '2021-01-31', '2022-01-31'],\n",
       "              dtype='datetime64[ns]', freq='12M')"
      ]
     },
     "execution_count": 58,
     "metadata": {},
     "output_type": "execute_result"
    }
   ],
   "source": [
    "#1960.01.01 ~ 오늘 -1일 까지의 기상청 일자별 데이터를 가져온다.\n",
    "pd.date_range(start='1960-01-01', end='2022-12-31', freq='12M') #freq D-일별 M-달별 "
   ]
  },
  {
   "cell_type": "markdown",
   "metadata": {},
   "source": []
  },
  {
   "cell_type": "code",
   "execution_count": 66,
   "metadata": {},
   "outputs": [
    {
     "name": "stdout",
     "output_type": "stream",
     "text": [
      "20000101\n",
      "20010101\n",
      "20020101\n",
      "20030101\n",
      "20040101\n",
      "20050101\n",
      "20060101\n",
      "20070101\n",
      "20080101\n",
      "20090101\n",
      "20100101\n",
      "20110101\n",
      "20120101\n",
      "20130101\n",
      "20140101\n",
      "20150101\n",
      "20160101\n",
      "20170101\n",
      "20180101\n",
      "20190101\n",
      "20200101\n"
     ]
    }
   ],
   "source": [
    "from datetime import date\n",
    "stDY= 2000\n",
    "endDY=2020\n",
    "for i in range(stDY, endDY+1):\n",
    "    print(date(i, 1, 1).strftime('%Y%m%d')) # Y: yyyy, m: mm, d: dd , str from time 시간을 문자로 바꿔라\n",
    "    print(date(i, 12, 31).strftime('%Y-%m-%d'))"
   ]
  },
  {
   "cell_type": "code",
   "execution_count": 71,
   "metadata": {},
   "outputs": [
    {
     "ename": "ModuleNotFoundError",
     "evalue": "No module named 'tqdm'",
     "output_type": "error",
     "traceback": [
      "\u001b[0;31m---------------------------------------------------------------------------\u001b[0m",
      "\u001b[0;31mModuleNotFoundError\u001b[0m                       Traceback (most recent call last)",
      "Cell \u001b[0;32mIn[71], line 3\u001b[0m\n\u001b[1;32m      1\u001b[0m \u001b[39mfrom\u001b[39;00m \u001b[39mdatetime\u001b[39;00m \u001b[39mimport\u001b[39;00m date, datetime, timedelta   \u001b[39m# 날짜/시간 관련 모듈\u001b[39;00m\n\u001b[1;32m      2\u001b[0m   \u001b[39m# 진행바 모듈\u001b[39;00m\n\u001b[0;32m----> 3\u001b[0m \u001b[39mimport\u001b[39;00m \u001b[39mtqdm\u001b[39;00m\n\u001b[1;32m      5\u001b[0m startDT \u001b[39m=\u001b[39m \u001b[39minput\u001b[39m(\u001b[39m'\u001b[39m\u001b[39m시작연도(yyyy): \u001b[39m\u001b[39m'\u001b[39m)\n\u001b[1;32m      6\u001b[0m endDT\u001b[39m=\u001b[39m \u001b[39minput\u001b[39m(\u001b[39m'\u001b[39m\u001b[39m종료년도(yyyy): \u001b[39m\u001b[39m'\u001b[39m)\n",
      "\u001b[0;31mModuleNotFoundError\u001b[0m: No module named 'tqdm'"
     ]
    }
   ],
   "source": [
    "from datetime import date, datetime, timedelta   # 날짜/시간 관련 모듈\n",
    "  # 진행바 모듈\n",
    "import tqdm\n",
    "\n",
    "startDT = input('시작연도(yyyy): ')\n",
    "endDT= input('종료년도(yyyy): ')\n",
    "loc_name= input('지역을 입력하세요: ')\n",
    "\n",
    "weather_df=pd.DataFrame()   # 최초 데이터프레임 생성\n",
    "\n",
    "for i in tqdm.tqdm(range(int(startDT), int(endDT)+1)):\n",
    "    \n",
    "    startDT = date(i, 1, 1).strftime(\"%Y%m%d\")\n",
    "    endDT = date(i, 12, 31).strftime(\"%Y%m%d\")\n",
    "    today = date.today().strftime(\"%Y%m%d\")\n",
    "    \n",
    "    if int(endDT) >= int(today):\n",
    "        endDT = int(date.today().strftime(\"%Y%m%d\")) - 1   # 20230807-1 = 20230806\n",
    "        endDT = str(endDT)\n",
    "    \n",
    "    weather_res = weather_api(loc_name, startDT, endDT)   # 함수 호출(최초)\n",
    "    numOfRows = weather_res['response']['body']['totalCount']\n",
    "\n",
    "    weather_res = weather_api(loc_name, startDT, endDT, numOfRows)   # 함수 호출(전체 조회 데이터)\n",
    "    df1 = pd.DataFrame(weather_res['response']['body']['items']['item'])\n",
    "    weather_df = pd.concat([weather_df, df1], ignore_index=True)   # 데이터프레임 병합\n",
    "    \n",
    "weather_df.info()\n",
    "\n"
   ]
  },
  {
   "cell_type": "code",
   "execution_count": null,
   "metadata": {},
   "outputs": [],
   "source": []
  }
 ],
 "metadata": {
  "kernelspec": {
   "display_name": "mtedu",
   "language": "python",
   "name": "python3"
  },
  "language_info": {
   "codemirror_mode": {
    "name": "ipython",
    "version": 3
   },
   "file_extension": ".py",
   "mimetype": "text/x-python",
   "name": "python",
   "nbconvert_exporter": "python",
   "pygments_lexer": "ipython3",
   "version": "3.10.12 (main, Jul  5 2023, 15:02:25) [Clang 14.0.6 ]"
  },
  "orig_nbformat": 4,
  "vscode": {
   "interpreter": {
    "hash": "588d42612a175310e16e3e40c5d51c79655772fe530029a1fa784d8417955f4d"
   }
  }
 },
 "nbformat": 4,
 "nbformat_minor": 2
}
