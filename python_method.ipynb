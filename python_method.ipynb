{
 "cells": [
  {
   "attachments": {},
   "cell_type": "markdown",
   "metadata": {},
   "source": [
    "## 함수의 정의 및 호출 \n",
    "\n",
    "def 함수이름(매개변수, ...):\n",
    "    함수정의 \n",
    "    return() #반환값 \n",
    "\n",
    "### 함수호출 \n",
    "함수이름(매개변수값들)"
   ]
  },
  {
   "cell_type": "code",
   "execution_count": null,
   "metadata": {},
   "outputs": [],
   "source": [
    "#python 함수: 정의 특정 행동만 진행하는 함수\n",
    "#두개의 데이터를 가져와 비교하는 함수 \n",
    "\n",
    "def prnMax(a, b):\n",
    "    if a > b:\n",
    "        print(f'{a}가 {b}보다 큰 값입니다.')\n",
    "    elif a == b:\n",
    "        print(f'{a}와 {b}는 동일한 값입니다.')\n",
    "    else:\n",
    "        print(f'{b}가 {a}보다 큰 값입니다.')"
   ]
  },
  {
   "cell_type": "code",
   "execution_count": null,
   "metadata": {},
   "outputs": [],
   "source": [
    "# 함수 호출 \n",
    "x=10\n",
    "y=10\n",
    "prnMax(x. y)"
   ]
  },
  {
   "cell_type": "code",
   "execution_count": 1,
   "metadata": {},
   "outputs": [],
   "source": [
    "def add(a, b=0):\n",
    "    global aa #전역변수\n",
    "    aa=20\n",
    "    \n",
    "    tot = a+b\n",
    "    if a > b:\n",
    "        pMax = a\n",
    "    elif b > a:\n",
    "        pMax = b\n",
    "    else:\n",
    "        pMax = \"같다\"\n",
    "        \n",
    "    return tot. pMax"
   ]
  },
  {
   "cell_type": "code",
   "execution_count": 5,
   "metadata": {},
   "outputs": [
    {
     "ename": "AttributeError",
     "evalue": "'int' object has no attribute 'pMax'",
     "output_type": "error",
     "traceback": [
      "\u001b[0;31m---------------------------------------------------------------------------\u001b[0m",
      "\u001b[0;31mAttributeError\u001b[0m                            Traceback (most recent call last)",
      "Cell \u001b[0;32mIn[5], line 3\u001b[0m\n\u001b[1;32m      1\u001b[0m aa \u001b[39m=\u001b[39m \u001b[39m10\u001b[39m; bb\u001b[39m=\u001b[39m\u001b[39m20\u001b[39m\n\u001b[0;32m----> 3\u001b[0m \u001b[39mprint\u001b[39m(add(aa))\n\u001b[1;32m      4\u001b[0m \u001b[39mprint\u001b[39m(aa)\n",
      "Cell \u001b[0;32mIn[1], line 12\u001b[0m, in \u001b[0;36madd\u001b[0;34m(a, b)\u001b[0m\n\u001b[1;32m      9\u001b[0m \u001b[39melse\u001b[39;00m:\n\u001b[1;32m     10\u001b[0m     pMax \u001b[39m=\u001b[39m \u001b[39m\"\u001b[39m\u001b[39m같다\u001b[39m\u001b[39m\"\u001b[39m\n\u001b[0;32m---> 12\u001b[0m \u001b[39mreturn\u001b[39;00m tot\u001b[39m.\u001b[39;49m pMax\n",
      "\u001b[0;31mAttributeError\u001b[0m: 'int' object has no attribute 'pMax'"
     ]
    }
   ],
   "source": [
    "aa = 10; bb=20\n",
    "\n",
    "print(add(aa))\n",
    "print(aa)"
   ]
  },
  {
   "cell_type": "code",
   "execution_count": 4,
   "metadata": {},
   "outputs": [
    {
     "ename": "AttributeError",
     "evalue": "'int' object has no attribute 'pMax'",
     "output_type": "error",
     "traceback": [
      "\u001b[0;31m---------------------------------------------------------------------------\u001b[0m",
      "\u001b[0;31mAttributeError\u001b[0m                            Traceback (most recent call last)",
      "Cell \u001b[0;32mIn[4], line 1\u001b[0m\n\u001b[0;32m----> 1\u001b[0m add(aa)\n",
      "Cell \u001b[0;32mIn[1], line 12\u001b[0m, in \u001b[0;36madd\u001b[0;34m(a, b)\u001b[0m\n\u001b[1;32m      9\u001b[0m \u001b[39melse\u001b[39;00m:\n\u001b[1;32m     10\u001b[0m     pMax \u001b[39m=\u001b[39m \u001b[39m\"\u001b[39m\u001b[39m같다\u001b[39m\u001b[39m\"\u001b[39m\n\u001b[0;32m---> 12\u001b[0m \u001b[39mreturn\u001b[39;00m tot\u001b[39m.\u001b[39;49m pMax\n",
      "\u001b[0;31mAttributeError\u001b[0m: 'int' object has no attribute 'pMax'"
     ]
    }
   ],
   "source": [
    "t.m = "
   ]
  },
  {
   "cell_type": "code",
   "execution_count": null,
   "metadata": {},
   "outputs": [],
   "source": [
    "### 매개변수 적용 함수 \n",
    "def user_info(name, age):\n",
    "    print('이름 : %s, 나이: %d' %(name,age))\n",
    "    "
   ]
  },
  {
   "cell_type": "code",
   "execution_count": 6,
   "metadata": {},
   "outputs": [
    {
     "name": "stdout",
     "output_type": "stream",
     "text": [
      "name:홍길동\n",
      "items:35\n",
      "items:경기도\n",
      "items:남성\n"
     ]
    }
   ],
   "source": [
    "#일반변수와 *매개변수 같이 사용 \n",
    "def user_info(name, *items):\n",
    "    print(f'name:{name}')\n",
    "    for item in items:\n",
    "        print(f'items:{item}')\n",
    "        \n",
    "user_info('홍길동', 35, '경기도', '남성')"
   ]
  },
  {
   "cell_type": "code",
   "execution_count": 7,
   "metadata": {},
   "outputs": [
    {
     "name": "stdout",
     "output_type": "stream",
     "text": [
      "{'name': '홍길동', 'age': 35, 'addr': '경기도', 'height': 175}\n"
     ]
    }
   ],
   "source": [
    "# **매개변수 \n",
    "def user_info(**kwargs):\n",
    "    print(kwargs)\n",
    "    \n",
    "user_info(name='홍길동', age=35, addr='경기도', height =175 )"
   ]
  },
  {
   "cell_type": "code",
   "execution_count": 8,
   "metadata": {},
   "outputs": [
    {
     "name": "stdout",
     "output_type": "stream",
     "text": [
      "name: 홍길동\n",
      "kwargs: {'age': 35, 'addr': '경기도', 'height': 175}\n"
     ]
    }
   ],
   "source": [
    "def user_info(name, **kwargs):\n",
    "    print(f'name: {name}')\n",
    "    print(f'kwargs: {kwargs}')\n",
    "    \n",
    "user_info(name='홍길동', age=35, addr='경기도', height =175 )"
   ]
  },
  {
   "cell_type": "code",
   "execution_count": null,
   "metadata": {},
   "outputs": [],
   "source": [
    "def user_prn(a, b):\n",
    "    print(a+b)\n",
    "    \n",
    "user_prn(10,20)\n",
    "\n",
    "user_prn = lambda a, b: print(a+b)\n",
    "user_prn(20, 30)\n",
    "#복잡한함수는 사용할수 없다. "
   ]
  },
  {
   "cell_type": "code",
   "execution_count": null,
   "metadata": {},
   "outputs": [],
   "source": [
    "class 빵틀:\n",
    "    def 빵반죽(self):  # 메서드(멤버함수) \n",
    "        self.기본재료='밀가루'   # 애트리뷰트 정의  \n",
    "        self.필수추가='이스트'   # 애트리뷰트 정의\n",
    "        self.기본시간=5          # 애트리뷰트 정의\n",
    "\n",
    "    def 빵모양(self): # 메서드(멤버함수)\n",
    "        self.크기가로=20        # 애트리뷰트 정의\n",
    "        self.크기세로=5         # 애트리뷰트 정의\n",
    "        \n",
    "    \n",
    "밤식빵=빵틀()   # 객체(인스턴스) 생성\n",
    "밤식빵.추가재료='밤'  # 클래스에 없는 객체 애트리뷰트 생성 및 값 설정\n",
    "밤식빵.칼로리=100     # 클래스에 없는 객체 애트리뷰트 생성 및 값 설정\n",
    "\n",
    "버터빵=빵틀()  # 객체(인스턴스) 생성\n",
    "버터빵.추가재료='버터'  # 클래스에 없는 객체 애트리뷰트 생성 및 값 설정\n",
    "버터빵.칼로리=200       # 클래스에 없는 객체 애트리뷰트 생성 및 값 설정\n",
    "\n",
    "밤식빵.빵반죽() ; 밤식빵.빵모양() # 메서드(멤버함수)호출\n",
    "print(밤식빵.기본재료, '/', 밤식빵.필수추가,'/',  밤식빵.기본시간,'/',  밤식빵.추가재료,'/',  밤식빵.칼로리 ,'/', 밤식빵.크기가로)\n",
    "\n",
    "밤식빵.기본재료='밤+밀가루'  # 메서드내의 애트리뷰트값 변경\n",
    "print(밤식빵.기본재료)\n",
    "\n",
    "print('-' * 100)\n",
    "버터빵.빵반죽() ; 버터빵.빵모양() # 메서드(멤버함수)호출\n",
    "print(버터빵.기본재료, '/', 버터빵.필수추가,'/',  버터빵.기본시간,'/',  버터빵.추가재료,'/',  버터빵.칼로리, '/', 버터빵.크기가로)"
   ]
  },
  {
   "cell_type": "code",
   "execution_count": 10,
   "metadata": {},
   "outputs": [],
   "source": [
    "class 식빵틀:\n",
    "    \n",
    "    def __init__(self):  # 메서드(멤버함수) 생성자로서 클래스가 객체를 생성할 때 자동으로 호출되는 함수 생성자라고 한다. \n",
    "        self.기본재료='밀가루'   # 애트리뷰트\n",
    "        self.필수추가='이스트'   # 애트리뷰트\n",
    "        self.기본시간=5          # 애트리뷰트\n",
    "    \n",
    "    def 빵모양(self):\n",
    "        self.크기가로=20\n",
    "        self.크기세로=20\n",
    "\n",
    "\n"
   ]
  },
  {
   "cell_type": "code",
   "execution_count": 11,
   "metadata": {},
   "outputs": [
    {
     "name": "stdout",
     "output_type": "stream",
     "text": [
      "밀가루\n"
     ]
    },
    {
     "ename": "AttributeError",
     "evalue": "'식빵틀' object has no attribute '크기가로'",
     "output_type": "error",
     "traceback": [
      "\u001b[0;31m---------------------------------------------------------------------------\u001b[0m",
      "\u001b[0;31mAttributeError\u001b[0m                            Traceback (most recent call last)",
      "Cell \u001b[0;32mIn[11], line 3\u001b[0m\n\u001b[1;32m      1\u001b[0m 식빵 \u001b[39m=\u001b[39m 식빵틀()\n\u001b[1;32m      2\u001b[0m \u001b[39mprint\u001b[39m(식빵\u001b[39m.\u001b[39m기본재료)\n\u001b[0;32m----> 3\u001b[0m \u001b[39mprint\u001b[39m(식빵\u001b[39m.\u001b[39;49m크기가로)\n",
      "\u001b[0;31mAttributeError\u001b[0m: '식빵틀' object has no attribute '크기가로'"
     ]
    }
   ],
   "source": [
    "식빵 = 식빵틀()\n",
    "print(식빵.기본재료) #생성자로 정의한 속성 호출 \n",
    "print(식빵.크기가로) #빵모양 메서드(함수)를 실행(호출)해야만 사용가능 "
   ]
  },
  {
   "cell_type": "code",
   "execution_count": 12,
   "metadata": {},
   "outputs": [
    {
     "name": "stdout",
     "output_type": "stream",
     "text": [
      "<class '__main__.Person'> <class '__main__.Person'>\n",
      "<class 'list'> <class 'list'>\n"
     ]
    }
   ],
   "source": [
    "# 클래스 타입 확인용\n",
    "class Person:\n",
    "    pass\n",
    "\n",
    "김강희 = Person()  #객체(인스턴스) 생성\n",
    "박성훈 = Person()  #객체(인스턴스) 생성\n",
    "\n",
    "a = list()\n",
    "b = list()\n",
    "\n",
    "print(type(김강희), type(박성훈))\n",
    "print(type(a), type(b))"
   ]
  },
  {
   "cell_type": "code",
   "execution_count": null,
   "metadata": {},
   "outputs": [],
   "source": [
    "class Person "
   ]
  }
 ],
 "metadata": {
  "kernelspec": {
   "display_name": "Python 3",
   "language": "python",
   "name": "python3"
  },
  "language_info": {
   "codemirror_mode": {
    "name": "ipython",
    "version": 3
   },
   "file_extension": ".py",
   "mimetype": "text/x-python",
   "name": "python",
   "nbconvert_exporter": "python",
   "pygments_lexer": "ipython3",
   "version": "3.11.4 (v3.11.4:d2340ef257, Jun  6 2023, 19:15:51) [Clang 13.0.0 (clang-1300.0.29.30)]"
  },
  "orig_nbformat": 4,
  "vscode": {
   "interpreter": {
    "hash": "aee8b7b246df8f9039afb4144a1f6fd8d2ca17a180786b69acc140d282b71a49"
   }
  }
 },
 "nbformat": 4,
 "nbformat_minor": 2
}
