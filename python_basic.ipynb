{
  "cells": [
    {
      "cell_type": "markdown",
      "metadata": {
        "id": "0kBSJ4c6HZkA"
      },
      "source": [
        "### 파이썬 기본 입력"
      ]
    },
    {
      "cell_type": "code",
      "execution_count": null,
      "metadata": {
        "id": "ZNRB_QFGHZkB"
      },
      "outputs": [],
      "source": [
        "# 주석문: # 기호로 시작하는 문장"
      ]
    },
    {
      "cell_type": "code",
      "execution_count": null,
      "metadata": {
        "id": "QAmFPWbaHZkD",
        "outputId": "59c613ef-58ab-4b59-aae9-e56e8a743f6d"
      },
      "outputs": [
        {
          "name": "stdout",
          "output_type": "stream",
          "text": [
            "python 3.11\n"
          ]
        }
      ],
      "source": [
        "# 사용자에게 내용을 전달하는 함수\n",
        "\n",
        "print('python 3.11')"
      ]
    },
    {
      "cell_type": "markdown",
      "metadata": {
        "id": "R0T0SKcpHZkD"
      },
      "source": [
        "### 파이썬은 들여쓰기를 통해 실행 영역을 정의"
      ]
    },
    {
      "cell_type": "code",
      "execution_count": null,
      "metadata": {
        "colab": {
          "base_uri": "https://localhost:8080/",
          "height": 131
        },
        "id": "z94r1mrTHZkE",
        "outputId": "f5f1bc69-3dbf-4284-814e-58b848409e06"
      },
      "outputs": [
        {
          "ename": "IndentationError",
          "evalue": "ignored",
          "output_type": "error",
          "traceback": [
            "\u001b[0;36m  File \u001b[0;32m\"<ipython-input-1-4bceff42c5e1>\"\u001b[0;36m, line \u001b[0;32m4\u001b[0m\n\u001b[0;31m    print(a+b)\u001b[0m\n\u001b[0m    ^\u001b[0m\n\u001b[0;31mIndentationError\u001b[0m\u001b[0;31m:\u001b[0m unexpected indent\n"
          ]
        }
      ],
      "source": [
        "a=\"이름:\"\n",
        "b=\"홍길동\"\n",
        "\n",
        "  print(a+b)\n"
      ]
    },
    {
      "cell_type": "code",
      "execution_count": null,
      "metadata": {
        "id": "Yd7_2E2-HZkE",
        "outputId": "83213c49-ba69-4b42-fa35-9420a5f76f90"
      },
      "outputs": [
        {
          "ename": "IndentationError",
          "evalue": "expected an indented block after 'for' statement on line 4 (1214065554.py, line 5)",
          "output_type": "error",
          "traceback": [
            "\u001b[1;36m  Cell \u001b[1;32mIn[8], line 5\u001b[1;36m\u001b[0m\n\u001b[1;33m    print(i)\u001b[0m\n\u001b[1;37m    ^\u001b[0m\n\u001b[1;31mIndentationError\u001b[0m\u001b[1;31m:\u001b[0m expected an indented block after 'for' statement on line 4\n"
          ]
        }
      ],
      "source": [
        "for i in range(5):\n",
        "    print(i)\n",
        "\n",
        "for i in range(5):\n",
        "print(i)"
      ]
    },
    {
      "cell_type": "markdown",
      "metadata": {
        "id": "t-O0dPz2HZkE"
      },
      "source": [
        "### 파이썬 자료형\n",
        "- 숫자, 문자, 리스트, 튜플, 딕셔너리, 집합"
      ]
    },
    {
      "cell_type": "markdown",
      "metadata": {
        "id": "sT0j6GJJHZkF"
      },
      "source": [
        "1. 숫자형 데이터 (교재 p46~47)"
      ]
    },
    {
      "cell_type": "code",
      "execution_count": null,
      "metadata": {
        "id": "dn5AzU8NHZkF",
        "outputId": "844edf17-301e-4d5b-e5c2-9d6c580af86b"
      },
      "outputs": [
        {
          "name": "stdout",
          "output_type": "stream",
          "text": [
            "15.0\n",
            "2.75\n",
            "2.0\n",
            "3.0\n",
            "=======================================\n",
            "<class 'int'> <class 'float'>\n"
          ]
        }
      ],
      "source": [
        "num1 = 11\n",
        "num2 = 4.\n",
        "\n",
        "print(num1 + num2)   # 더하기\n",
        "print(num1 / num2)   # 나누기\n",
        "print(num1 // num2)  # 몫\n",
        "print(num1 % num2)   # 나머지\n",
        "\n",
        "print(\"=======================================\")\n",
        "print(type(num1), type(num2))  # type() 데이터에 자료형을 알려준다."
      ]
    },
    {
      "cell_type": "markdown",
      "metadata": {
        "id": "AhFss4RDHZkG"
      },
      "source": [
        "2. 문자형(p50~)\n",
        "- 입력시 반드시 \"\", ''로 묶어준다. => 문자형\n",
        "- 영문, 한글, 특수문자, 아라비아숫자\n"
      ]
    },
    {
      "cell_type": "code",
      "execution_count": null,
      "metadata": {
        "id": "hXsGMddjHZkG",
        "outputId": "b02f3b97-c21e-45b3-dc12-d8be23e05249"
      },
      "outputs": [
        {
          "name": "stdout",
          "output_type": "stream",
          "text": [
            "<class 'str'>\n",
            "<class 'str'>\n"
          ]
        }
      ],
      "source": [
        "str1='python'\n",
        "str2=\"3.11\"\n",
        "\n",
        "print(type(str1))\n",
        "print(type(str2))"
      ]
    },
    {
      "cell_type": "markdown",
      "metadata": {
        "id": "GjGX4lSIHZkG"
      },
      "source": [
        "##### [참조] + 기호 사용\n",
        "- 숫자형: 더하기\n",
        "- 문자형: 연결연산자\n",
        "- 자료형이 다른 경우 오류 발생"
      ]
    },
    {
      "cell_type": "code",
      "execution_count": null,
      "metadata": {
        "id": "bcz0-HXFHZkH",
        "outputId": "48520e86-bc5e-4c8e-b868-451e5f3df862"
      },
      "outputs": [
        {
          "ename": "TypeError",
          "evalue": "unsupported operand type(s) for +: 'int' and 'str'",
          "output_type": "error",
          "traceback": [
            "\u001b[1;31m---------------------------------------------------------------------------\u001b[0m",
            "\u001b[1;31mTypeError\u001b[0m                                 Traceback (most recent call last)",
            "Cell \u001b[1;32mIn[15], line 4\u001b[0m\n\u001b[0;32m      1\u001b[0m a \u001b[39m=\u001b[39m \u001b[39m10\u001b[39m\n\u001b[0;32m      2\u001b[0m b \u001b[39m=\u001b[39m \u001b[39m'\u001b[39m\u001b[39m20\u001b[39m\u001b[39m'\u001b[39m\n\u001b[1;32m----> 4\u001b[0m \u001b[39mprint\u001b[39m(a \u001b[39m+\u001b[39;49m b)\n",
            "\u001b[1;31mTypeError\u001b[0m: unsupported operand type(s) for +: 'int' and 'str'"
          ]
        }
      ],
      "source": [
        "a = 10\n",
        "b = '20'\n",
        "\n",
        "print(a + b) # TypeError: 숫자와 문자열은 더할 수 없다."
      ]
    },
    {
      "cell_type": "markdown",
      "metadata": {
        "id": "_9MPaFUvHZkH"
      },
      "source": [
        "- str(인수): 입력받은 인수를 문자열로 반환\n",
        "- int(인수): 입력받은 인수를 정수로 반환\n",
        "- float(인수): 입력받은 인수를 실수로 반환"
      ]
    },
    {
      "cell_type": "code",
      "execution_count": null,
      "metadata": {
        "id": "38lCJv2MHZkH",
        "outputId": "54419c09-cbe1-4346-84e8-667fcb5932f9"
      },
      "outputs": [
        {
          "name": "stdout",
          "output_type": "stream",
          "text": [
            "30\n",
            "1020\n"
          ]
        }
      ],
      "source": [
        "a = 10\n",
        "b = '20'\n",
        "\n",
        "print(a + int(b)) # 산술연산자\n",
        "print(str(a) + b) # 문자열 연결 연산자"
      ]
    },
    {
      "cell_type": "markdown",
      "metadata": {
        "id": "f9VQu56eHZkI"
      },
      "source": [
        "2-1. 문자열 연산(p56~)"
      ]
    },
    {
      "cell_type": "code",
      "execution_count": null,
      "metadata": {
        "id": "03J1o8TCHZkI",
        "outputId": "cf43f6ec-e3fe-4f09-a76a-e859f117e545"
      },
      "outputs": [
        {
          "name": "stdout",
          "output_type": "stream",
          "text": [
            "34\n"
          ]
        }
      ],
      "source": [
        "# 기본 문자열\n",
        "str1='Life is too short, You need Python'\n",
        "\n",
        "# 문자의 길이\n",
        "print(len(str1)) # len() 함수: 문자열/리스트 등 길이를 구하는 함수"
      ]
    },
    {
      "cell_type": "code",
      "execution_count": null,
      "metadata": {
        "id": "uLi1F_zhHZkI",
        "outputId": "606f128e-ce38-4344-c691-cd828e2c1aac"
      },
      "outputs": [
        {
          "name": "stdout",
          "output_type": "stream",
          "text": [
            "L\n",
            "Life\n",
            "Life\n",
            "Python\n",
            "Python Python\n"
          ]
        }
      ],
      "source": [
        "# 문자열 자르기\n",
        "# 문자열 인덱싱, 슬라이싱\n",
        "\n",
        "# 문자열 인덱싱: 문자의 위치를 나타내는 값\n",
        "print(str1[0]) # 첫번째 문자 출력\n",
        "\n",
        "# 문자열 슬라이싱: 문자열의 일부분을 잘라서 가져오는 것, 문자열[시작인덱스:끝인덱스]\n",
        "print(str1[0:4]) # 0번째부터 4번째 전까지 가져오기\n",
        "print(str1[:4]) # 0번째부터 4번째 전까지 가져오기\n",
        "print(str1[-6:]) # 뒤에서 6번째부터 끝까지 가져오기\n",
        "print(str1[28:], str1[28:34]) # 뒤에서 6번째부터 끝까지 가져오기\n",
        "\n",
        "\n"
      ]
    },
    {
      "cell_type": "markdown",
      "metadata": {
        "id": "vHqGEr1THZkJ"
      },
      "source": [
        "2-2. 문자열 관련 함수(p72~)\n",
        "- count, find, index, join, replace, split"
      ]
    },
    {
      "cell_type": "code",
      "execution_count": null,
      "metadata": {
        "id": "WDbbaEU5HZkJ",
        "outputId": "b3a0aea6-e10c-4a7f-ca45-4c108394e18d"
      },
      "outputs": [
        {
          "name": "stdout",
          "output_type": "stream",
          "text": [
            "17\n",
            "str1의 문자열에서 t 글자 개수: 2\n",
            "str1의 문자열에서 s 글자 위치 6\n",
            "1\n",
            "L-i-f-e- -i-s- -t-o-o- -s-h-o-r-t\n",
            "Your leg is too short\n",
            "['Life', 'is', 'too', 'short']\n"
          ]
        }
      ],
      "source": [
        "str1='Life is too short'\n",
        "\n",
        "# 문자열 길이\n",
        "print(len(str1))\n",
        "\n",
        "# 문자열 내부의 특정 문자 개수\n",
        "print(f\"str1의 문자열에서 t 글자 개수: {str1.count('t')}\")\n",
        "\n",
        "# 문자열 내부의 특정 문자 위치(인덱스), 없으면 -1\n",
        "print(f\"str1의 문자열에서 s 글자 위치 {str1.find('s')}\")\n",
        "\n",
        "# 문자열에서 특정 문자의 위치, 없으면 오류\n",
        "print(str1.index('i'))\n",
        "\n",
        "# 문자열 내부에 특정 문자열을 삽입할때 사용\n",
        "print(\"-\".join(str1))\n",
        "\n",
        "# 문자열 변경\n",
        "print(str1.replace('Life', 'Your leg')) # Life를 Your leg로 변경\n",
        "\n",
        "# 문자열 나누기\n",
        "print(str1.split(\" \"))  # 공백을 기준으로 나눔, 결과값은 리스트로 반환\n"
      ]
    },
    {
      "cell_type": "markdown",
      "metadata": {
        "id": "6XfOI0_qHZkJ"
      },
      "source": [
        "3. 리스트형\n",
        "- 데이터를 대괄호([ ])로 묶어준다.\n",
        "- 데이터 구분은 쉼표(,)로 나누어 입력\n",
        "- 인덱싱/슬라이싱"
      ]
    },
    {
      "cell_type": "code",
      "execution_count": null,
      "metadata": {
        "id": "q6NJCFooHZkJ",
        "outputId": "0252d468-fbb1-450c-e4ba-391f952fbeb2"
      },
      "outputs": [
        {
          "name": "stdout",
          "output_type": "stream",
          "text": [
            "<class 'list'>\n"
          ]
        }
      ],
      "source": [
        "# 리스트 데이터 생성\n",
        "lst1 = [10, 20, 30, \"멀티\", '파이썬', [100, 200, 300]]\n",
        "\n",
        "print(type(lst1))\n"
      ]
    },
    {
      "cell_type": "code",
      "execution_count": null,
      "metadata": {
        "id": "O331ukfXHZkJ",
        "outputId": "4a33027c-b2a1-40c4-c284-c9aad138640f"
      },
      "outputs": [
        {
          "data": {
            "text/plain": [
              "200"
            ]
          },
          "execution_count": 42,
          "metadata": {},
          "output_type": "execute_result"
        }
      ],
      "source": [
        "# 인덱싱\n",
        "lst1[0]\n",
        "lst1[3]\n",
        "lst1[-1] # lst1[5]\n",
        "lst1[-1][1]"
      ]
    },
    {
      "cell_type": "code",
      "execution_count": null,
      "metadata": {
        "id": "ha8eHxSxHZkK",
        "outputId": "f19732f9-6f95-4f0e-dd1b-e28ecdd50207"
      },
      "outputs": [
        {
          "data": {
            "text/plain": [
              "['멀티', '파이썬']"
            ]
          },
          "execution_count": 44,
          "metadata": {},
          "output_type": "execute_result"
        }
      ],
      "source": [
        "# 슬라이싱\n",
        "lst1[3:5]"
      ]
    },
    {
      "cell_type": "code",
      "execution_count": null,
      "metadata": {
        "id": "yY-yZwEpHZkK",
        "outputId": "9776442d-b3a2-4dc9-d490-4bf3e4d26235"
      },
      "outputs": [
        {
          "name": "stdout",
          "output_type": "stream",
          "text": [
            "[10, 20, 30, '멀티캠퍼스', '파이썬', [100, 200, 300]]\n"
          ]
        }
      ],
      "source": [
        "# 데이터 수정\n",
        "lst1[3] = '멀티캠퍼스'\n",
        "print(lst1)"
      ]
    },
    {
      "cell_type": "code",
      "execution_count": null,
      "metadata": {
        "id": "RZO3G9EqHZkK"
      },
      "outputs": [],
      "source": [
        "# 데이터 삭제\n",
        "del lst1[2]"
      ]
    },
    {
      "cell_type": "code",
      "execution_count": null,
      "metadata": {
        "id": "hK3Vii7kHZkK",
        "outputId": "0b00c16a-4d7b-4057-e46a-44a4c7a4e073"
      },
      "outputs": [
        {
          "data": {
            "text/plain": [
              "[10, 20, '멀티캠퍼스', '파이썬', [100, 200, 300]]"
            ]
          },
          "execution_count": 48,
          "metadata": {},
          "output_type": "execute_result"
        }
      ],
      "source": [
        "lst1"
      ]
    },
    {
      "cell_type": "code",
      "execution_count": null,
      "metadata": {
        "id": "JHKpfT20HZkK",
        "outputId": "a8a9f064-6a18-4bcd-b8d4-177355d263a8"
      },
      "outputs": [
        {
          "name": "stdout",
          "output_type": "stream",
          "text": [
            "['Python', 'Java']\n",
            "['Python', 'Java', 'R', 'C']\n"
          ]
        }
      ],
      "source": [
        "# list에 많이 사용하는 함수\n",
        "# append, extend, remove, count, sort, reverse, clear\n",
        "\n",
        "lstEdu=[]\n",
        "\n",
        "# 리스트에 데이터 추가\n",
        "lstEdu.append('Python')\n",
        "lstEdu.append('Java')\n",
        "\n",
        "print(lstEdu)\n",
        "\n",
        "# + 연산자를 이용한 리스트 추가\n",
        "lstEdu2 = ['R', 'C']\n",
        "print(lstEdu + lstEdu2)"
      ]
    },
    {
      "cell_type": "code",
      "execution_count": null,
      "metadata": {
        "id": "SGzwYzz7HZkK",
        "outputId": "20d52df4-2296-45dc-da5f-89dc09c9c718"
      },
      "outputs": [
        {
          "name": "stdout",
          "output_type": "stream",
          "text": [
            "[2, 3, 5, 6, 8, 10, 11, 12]\n"
          ]
        },
        {
          "data": {
            "text/plain": [
              "[12, 11, 10, 8, 6, 5, 3, 2]"
            ]
          },
          "execution_count": 57,
          "metadata": {},
          "output_type": "execute_result"
        }
      ],
      "source": [
        "# sort 함수를 이용한 정렬\n",
        "lstedu3=[10, 2, 5, 12, 11, 8, 3, 6]\n",
        "lstedu3.sort()  # 오름차순 정렬\n",
        "print(lstedu3)\n",
        "\n",
        "# 내림차순 정렬\n",
        "lstedu3.sort(reverse=True) # lstedu3.reverse()와 동일\n",
        "lstedu3"
      ]
    },
    {
      "cell_type": "markdown",
      "metadata": {
        "id": "ZtPp4oi6HZkK"
      },
      "source": [
        "4. 튜플형\n",
        "- 리스트와 동일하며 입력시 소괄호로 묶어서 입력\n",
        "- 값이 변하지 않는다.(수정 불가)"
      ]
    },
    {
      "cell_type": "code",
      "execution_count": null,
      "metadata": {
        "id": "y1-YI2IVHZkK",
        "outputId": "2a390bc1-6439-444e-e85e-5c20b471abee"
      },
      "outputs": [
        {
          "ename": "TypeError",
          "evalue": "'tuple' object does not support item assignment",
          "output_type": "error",
          "traceback": [
            "\u001b[1;31m---------------------------------------------------------------------------\u001b[0m",
            "\u001b[1;31mTypeError\u001b[0m                                 Traceback (most recent call last)",
            "Cell \u001b[1;32mIn[60], line 4\u001b[0m\n\u001b[0;32m      1\u001b[0m tf \u001b[39m=\u001b[39m (\u001b[39m1\u001b[39m, \u001b[39m2\u001b[39m, \u001b[39m3\u001b[39m)\n\u001b[0;32m      2\u001b[0m tf[\u001b[39m0\u001b[39m:\u001b[39m2\u001b[39m]\n\u001b[1;32m----> 4\u001b[0m tf[\u001b[39m1\u001b[39;49m] \u001b[39m=\u001b[39m \u001b[39m5\u001b[39m\n",
            "\u001b[1;31mTypeError\u001b[0m: 'tuple' object does not support item assignment"
          ]
        }
      ],
      "source": [
        "tf = (1, 2, 3)\n",
        "tf[0:2]\n",
        "\n",
        "tf[1] = 5  # Error: 수정 불가능"
      ]
    },
    {
      "cell_type": "markdown",
      "metadata": {
        "id": "zZpt65RHHZkL"
      },
      "source": [
        "5. 딕셔너리형(p93~)\n",
        "- 중과호({ })로 묶어서 입력\n",
        "- keys:values 구조\n",
        "- values: 파이썬의 모든 자료형 입력 가능"
      ]
    },
    {
      "cell_type": "code",
      "execution_count": null,
      "metadata": {
        "id": "gubKIOexHZkL"
      },
      "outputs": [],
      "source": [
        "# 딕셔너리\n",
        "dict1 = {'번호': 1, '이름': '홍길동', '나이': 20, '성별': '남자'}\n",
        "dict2 = {'번호': [1, 2, 3, 4, 5],\n",
        "         '이름': ['홍길동', '김철수', '이영희', '박영수', '김영희'],\n",
        "         '나이': [20, 25, 30, 35, 40],\n",
        "         '성별': ['남자', '여자', '남자', '여자', '남자']\n",
        "         }"
      ]
    },
    {
      "cell_type": "code",
      "execution_count": null,
      "metadata": {
        "id": "oJdedlCzHZkL",
        "outputId": "91b3502a-79bd-4a44-f135-03765e85d39a"
      },
      "outputs": [
        {
          "name": "stdout",
          "output_type": "stream",
          "text": [
            "<class 'dict'>\n",
            "dict_keys(['번호', '이름', '나이', '성별'])\n",
            "dict_values([1, '홍길동', 20, '남자'])\n",
            "dict_values([[1, 2, 3, 4, 5], ['홍길동', '김철수', '이영희', '박영수', '김영희'], [20, 25, 30, 35, 40], ['남자', '여자', '남자', '여자', '남자']])\n",
            "['홍길동', '김철수', '이영희', '박영수', '김영희']\n",
            "홍길동\n"
          ]
        }
      ],
      "source": [
        "# 딕셔너리 자료형 값 관리\n",
        "print(type(dict1))\n",
        "\n",
        "# 딕셔너리의 키와 값 출력/결과는 리스트 형태로 출력\n",
        "print(dict1.keys()) # 키만 출력\n",
        "print(dict1.values()) # 값만 출력\n",
        "\n",
        "print(dict2.values()) # 값만 출력\n",
        "print(dict2['이름']) # 키를 이용하여 값 출력\n",
        "print(dict2['이름'][0]) # 키를 이용하여 값 출력"
      ]
    },
    {
      "cell_type": "code",
      "execution_count": null,
      "metadata": {
        "id": "Wac5TgPoHZkL",
        "outputId": "b5ce9866-9b60-46cb-dbdb-61cfa3bc2d11"
      },
      "outputs": [
        {
          "name": "stdout",
          "output_type": "stream",
          "text": [
            "['홍길동', '김철수', '이영희', '박영수', '김영희']\n",
            "김영희\n",
            "True\n"
          ]
        }
      ],
      "source": [
        "# 관련함수\n",
        "print(dict2.get('이름'))\n",
        "print(dict2.get('이름')[-1])\n",
        "\n",
        "print('나이' in dict2) # key값이 있는지 확인(True, False)"
      ]
    },
    {
      "cell_type": "code",
      "execution_count": null,
      "metadata": {
        "id": "gJQV8XP8HZkL",
        "outputId": "1659f8bc-bd4d-4e4c-a743-227743677299"
      },
      "outputs": [
        {
          "name": "stdout",
          "output_type": "stream",
          "text": [
            "Requirement already satisfied: pandas in c:\\programdata\\miniconda3\\lib\\site-packages (2.0.3)\n",
            "Requirement already satisfied: python-dateutil>=2.8.2 in c:\\users\\lenovo_user\\appdata\\roaming\\python\\python311\\site-packages (from pandas) (2.8.2)\n",
            "Requirement already satisfied: pytz>=2020.1 in c:\\programdata\\miniconda3\\lib\\site-packages (from pandas) (2022.7)\n",
            "Requirement already satisfied: tzdata>=2022.1 in c:\\programdata\\miniconda3\\lib\\site-packages (from pandas) (2023.3)\n",
            "Requirement already satisfied: numpy>=1.21.0 in c:\\programdata\\miniconda3\\lib\\site-packages (from pandas) (1.25.2)\n",
            "Requirement already satisfied: six>=1.5 in c:\\users\\lenovo_user\\appdata\\roaming\\python\\python311\\site-packages (from python-dateutil>=2.8.2->pandas) (1.16.0)\n"
          ]
        }
      ],
      "source": [
        "#!pip install pandas"
      ]
    },
    {
      "cell_type": "code",
      "execution_count": null,
      "metadata": {
        "id": "mxEEvvIIHZkL"
      },
      "outputs": [],
      "source": [
        "import pandas as pd  # pandas library 연결하기"
      ]
    },
    {
      "cell_type": "code",
      "execution_count": null,
      "metadata": {
        "id": "4ofbyqYcHZkL",
        "outputId": "f0f7ebfc-d405-4537-9288-fb9f97136a6f"
      },
      "outputs": [
        {
          "data": {
            "text/html": [
              "<div>\n",
              "<style scoped>\n",
              "    .dataframe tbody tr th:only-of-type {\n",
              "        vertical-align: middle;\n",
              "    }\n",
              "\n",
              "    .dataframe tbody tr th {\n",
              "        vertical-align: top;\n",
              "    }\n",
              "\n",
              "    .dataframe thead th {\n",
              "        text-align: right;\n",
              "    }\n",
              "</style>\n",
              "<table border=\"1\" class=\"dataframe\">\n",
              "  <thead>\n",
              "    <tr style=\"text-align: right;\">\n",
              "      <th></th>\n",
              "      <th>번호</th>\n",
              "      <th>이름</th>\n",
              "      <th>나이</th>\n",
              "      <th>성별</th>\n",
              "    </tr>\n",
              "  </thead>\n",
              "  <tbody>\n",
              "    <tr>\n",
              "      <th>0</th>\n",
              "      <td>1</td>\n",
              "      <td>홍길동</td>\n",
              "      <td>20</td>\n",
              "      <td>남자</td>\n",
              "    </tr>\n",
              "    <tr>\n",
              "      <th>1</th>\n",
              "      <td>2</td>\n",
              "      <td>김철수</td>\n",
              "      <td>25</td>\n",
              "      <td>여자</td>\n",
              "    </tr>\n",
              "    <tr>\n",
              "      <th>2</th>\n",
              "      <td>3</td>\n",
              "      <td>이영희</td>\n",
              "      <td>30</td>\n",
              "      <td>남자</td>\n",
              "    </tr>\n",
              "    <tr>\n",
              "      <th>3</th>\n",
              "      <td>4</td>\n",
              "      <td>박영수</td>\n",
              "      <td>35</td>\n",
              "      <td>여자</td>\n",
              "    </tr>\n",
              "    <tr>\n",
              "      <th>4</th>\n",
              "      <td>5</td>\n",
              "      <td>김영희</td>\n",
              "      <td>40</td>\n",
              "      <td>남자</td>\n",
              "    </tr>\n",
              "  </tbody>\n",
              "</table>\n",
              "</div>"
            ],
            "text/plain": [
              "   번호   이름  나이  성별\n",
              "0   1  홍길동  20  남자\n",
              "1   2  김철수  25  여자\n",
              "2   3  이영희  30  남자\n",
              "3   4  박영수  35  여자\n",
              "4   5  김영희  40  남자"
            ]
          },
          "execution_count": 77,
          "metadata": {},
          "output_type": "execute_result"
        }
      ],
      "source": [
        "df = pd.DataFrame(dict2)\n",
        "df"
      ]
    },
    {
      "cell_type": "markdown",
      "metadata": {
        "id": "815rFYAkHZkL"
      },
      "source": [
        "6. 집합형\n",
        "- set([데이터])\n",
        "- 고유값만 가진다."
      ]
    },
    {
      "cell_type": "code",
      "execution_count": null,
      "metadata": {
        "id": "ihECBasiHZkT",
        "outputId": "32e1538b-bc44-458c-9713-891f12e7ece7"
      },
      "outputs": [
        {
          "data": {
            "text/plain": [
              "{1, 2, 3, 4, 5}"
            ]
          },
          "execution_count": 82,
          "metadata": {},
          "output_type": "execute_result"
        }
      ],
      "source": [
        "set1 = set([1, 2, 3, 4, 5, 1, 3, 5])\n",
        "set1"
      ]
    },
    {
      "cell_type": "code",
      "execution_count": null,
      "metadata": {
        "id": "wnABKBPhHZkT",
        "outputId": "89dd3462-d296-4cca-d1e7-b8410af58d6c"
      },
      "outputs": [
        {
          "data": {
            "text/plain": [
              "[1, 2, 3, 4, 5]"
            ]
          },
          "execution_count": 83,
          "metadata": {},
          "output_type": "execute_result"
        }
      ],
      "source": [
        "setLst=list(set1)  # list 형식으로 변환\n",
        "setLst"
      ]
    },
    {
      "cell_type": "markdown",
      "metadata": {
        "id": "txRX8dJkHZkT"
      },
      "source": [
        "### 제어문/if문(P121~)"
      ]
    },
    {
      "cell_type": "code",
      "execution_count": null,
      "metadata": {
        "id": "GduW97LPHZkT",
        "outputId": "182e4946-3ea2-4b28-ee14-58a73389820f"
      },
      "outputs": [
        {
          "name": "stdout",
          "output_type": "stream",
          "text": [
            "<class 'str'>\n",
            "종료\n"
          ]
        }
      ],
      "source": [
        "# if문 연습1(p123~)\n",
        "\n",
        "# 사용자로부터 데이터 입력 받기: input()\n",
        "indata = input(\"숫자를 입력하세요: \")  # input() 함수는 문자열로 입력 받음\n",
        "print(type(indata))  # type() 함수는 데이터의 타입을 확인하는 함수\n",
        "\n",
        "if int(indata) > 0:  # int() 함수는 문자열을 정수로 변환하는 함수\n",
        "    print(\"0보다 큰 수입니다.\")\n",
        "\n",
        "print(\"종료\")"
      ]
    },
    {
      "cell_type": "code",
      "execution_count": null,
      "metadata": {
        "id": "Z647Ja9mHZkT",
        "outputId": "33599257-4048-4dc6-eeb2-37472916788a"
      },
      "outputs": [
        {
          "name": "stdout",
          "output_type": "stream",
          "text": [
            "<class 'str'>\n",
            "0는 0보다 작은 수입니다.\n",
            "종료\n"
          ]
        }
      ],
      "source": [
        "# if문 연습2(p130~)\n",
        "\n",
        "# 사용자로부터 데이터 입력 받기: input()\n",
        "indata = input(\"숫자를 입력하세요: \")  # input() 함수는 문자열로 입력 받음\n",
        "print(type(indata))  # type() 함수는 데이터의 타입을 확인하는 함수\n",
        "\n",
        "if int(indata) > 0:  # int() 함수는 문자열을 정수로 변환하는 함수\n",
        "    print(f\"{indata}는 0보다 큰 수입니다.\")\n",
        "else:\n",
        "    print(f\"{indata}는 0보다 작은 수입니다.\")\n",
        "\n",
        "print(\"종료\")"
      ]
    },
    {
      "cell_type": "code",
      "execution_count": null,
      "metadata": {
        "id": "yM4j7tbrHZkT",
        "outputId": "e88a1cf7-2451-4e83-b325-c15e695498ac"
      },
      "outputs": [
        {
          "name": "stdout",
          "output_type": "stream",
          "text": [
            "<class 'str'>\n",
            "0는 0입니다.\n",
            "종료\n"
          ]
        }
      ],
      "source": [
        "# if문 연습3(p130~)\n",
        "\n",
        "# 사용자로부터 데이터 입력 받기: input()\n",
        "indata = input(\"숫자를 입력하세요: \")  # input() 함수는 문자열로 입력 받음\n",
        "print(type(indata))  # type() 함수는 데이터의 타입을 확인하는 함수\n",
        "\n",
        "if int(indata) > 0:  # int() 함수는 문자열을 정수로 변환하는 함수\n",
        "    print(f\"{indata}는 0보다 큰 수입니다.\")\n",
        "elif int(indata) == 0:\n",
        "    print(f\"{indata}는 0입니다.\")\n",
        "else:\n",
        "    print(f\"{indata}는 0보다 작은 수입니다.\")\n",
        "\n",
        "print(\"종료\")"
      ]
    },
    {
      "cell_type": "code",
      "execution_count": null,
      "metadata": {
        "id": "K9dNp0bOHZkT",
        "outputId": "07674e94-0b59-4723-977b-2ba6ee54bad5"
      },
      "outputs": [
        {
          "name": "stdout",
          "output_type": "stream",
          "text": [
            "택시를 타고 가라\n",
            "집으로 간다.\n"
          ]
        }
      ],
      "source": [
        "# and/or/not 조건\n",
        "# 돈이 10000원 이상 있거나 카드가 있다면 택시를 타고 그렇지 않으면 걸어 간다.\n",
        "\n",
        "money = 5000\n",
        "card = True\n",
        "\n",
        "if money >= 10000 or card == True:\n",
        "    print(\"택시를 타고 가라\")\n",
        "else:\n",
        "    print(\"걸어 가라\")\n",
        "\n",
        "print(\"집으로 간다.\")\n"
      ]
    },
    {
      "cell_type": "code",
      "execution_count": null,
      "metadata": {
        "id": "GEMMhci3HZkU",
        "outputId": "5059c8b0-f076-443e-f4f7-59831302451e"
      },
      "outputs": [
        {
          "name": "stdout",
          "output_type": "stream",
          "text": [
            "현금결재\n",
            "결재완료\n"
          ]
        }
      ],
      "source": [
        "# in/not in\n",
        "# 만약 주머니에 현금이 있다면 현금결재, 아니면 카드결재\n",
        "\n",
        "pocket = ['paper', 'cellphone', 'money']\n",
        "\n",
        "if 'money' in pocket:\n",
        "    print(\"현금결재\")\n",
        "else:\n",
        "    print(\"카드결재\")\n",
        "\n",
        "print('결재완료')\n",
        "\n"
      ]
    },
    {
      "cell_type": "code",
      "execution_count": null,
      "metadata": {
        "id": "CTkrmRF0HZkU",
        "outputId": "3cbb93ad-dc17-4116-a592-7df182a78171"
      },
      "outputs": [
        {
          "name": "stdout",
          "output_type": "stream",
          "text": [
            "로그인 성공\n"
          ]
        }
      ],
      "source": [
        "# id=sjd001, pw: sjd12345\n",
        "# ids와 pws를 이용해 로글인 프로그램을 작성하시오.\n",
        "\n",
        "ids = ['sjd001', 'sjd002', 'sjd003']\n",
        "pws = ['sjd12345', 'sjd45678', 'sjd12457']\n",
        "\n",
        "# ID와 PW를 입력받는다.\n",
        "id = input('ID를 입력하세요: ')\n",
        "pw = input('PW를 입력하세요: ')\n",
        "\n",
        "if id in ids:      # id가 ids에 있으면\n",
        "    # id에 해당하는 pw 확인\n",
        "    idx = ids.index(id)\n",
        "    if pw == pws[idx]:\n",
        "        print('로그인 성공')\n",
        "    else:\n",
        "        print('비밀번호가 틀렸습니다.')\n",
        "        print('로그인 실패')\n",
        "else:\n",
        "    print('ID가 존재하지 않습니다.')\n",
        "    print('로그인 실패')\n"
      ]
    },
    {
      "cell_type": "markdown",
      "metadata": {
        "id": "tvkcdIhFHZkU"
      },
      "source": [
        "### 반복문(while) - p133~\n",
        "- 반복되는 동일 작업에 대한 코드"
      ]
    },
    {
      "cell_type": "code",
      "execution_count": null,
      "metadata": {
        "id": "6yHeb8_CHZkU",
        "outputId": "9b0e851f-b928-4e43-aaab-28cb0264fa48"
      },
      "outputs": [
        {
          "name": "stdout",
          "output_type": "stream",
          "text": [
            "반복을 계속할까요? (예/아니오)\n",
            "반복을 계속할까요? (예/아니오)\n",
            "반복을 계속할까요? (예/아니오)\n",
            "반복을 계속할까요? (예/아니오)\n",
            "반복을 계속할까요? (예/아니오)\n",
            "반복을 종료합니다.\n"
          ]
        }
      ],
      "source": [
        "# while 문\n",
        "\n",
        "while True:\n",
        "    print(\"반복을 계속할까요? (예/아니오)\")\n",
        "    answer = input()\n",
        "    if answer == \"아니오\":\n",
        "        break   # 반복문을 빠져나감\n",
        "\n",
        "print(\"반복을 종료합니다.\")"
      ]
    },
    {
      "cell_type": "code",
      "execution_count": null,
      "metadata": {
        "id": "o_RIja0pHZkU",
        "outputId": "07ce8b51-b8f9-4374-b227-9c959b49d870"
      },
      "outputs": [
        {
          "name": "stdout",
          "output_type": "stream",
          "text": [
            "반복을 계속할까요? (예/아니오)\n",
            "반복을 계속할까요? (예/아니오)\n",
            "반복을 계속할까요? (예/아니오)\n",
            "반복을 계속할까요? (예/아니오)\n",
            "반복을 계속할까요? (예/아니오)\n",
            "반복이 종료되었습니다.\n"
          ]
        }
      ],
      "source": [
        "answer = '예'\n",
        "\n",
        "while answer == '예':\n",
        "    print(\"반복을 계속할까요? (예/아니오)\")\n",
        "    answer = input()\n",
        "\n",
        "print(\"반복이 종료되었습니다.\")"
      ]
    },
    {
      "cell_type": "markdown",
      "metadata": {
        "id": "0bViwaakHZkU"
      },
      "source": [
        "### 반복문(for문)-p114~\n",
        "for 변수 in 리스트(문자열, 튜플 등):\n",
        "    실행 코드"
      ]
    },
    {
      "cell_type": "code",
      "execution_count": null,
      "metadata": {
        "id": "f8-8sQa7HZkU",
        "outputId": "8564e9be-ad85-430e-c478-1d280dd877da"
      },
      "outputs": [
        {
          "name": "stdout",
          "output_type": "stream",
          "text": [
            "홍길동님~ 안녕하세요.\n",
            "이순신님~ 안녕하세요.\n",
            "강감찬님~ 안녕하세요.\n",
            "권율님~ 안녕하세요.\n",
            "을지문덕님~ 안녕하세요.\n",
            "종료\n"
          ]
        }
      ],
      "source": [
        "# 객체를 그대로 사용\n",
        "이름 =['홍길동','이순신','강감찬', '권율', '을지문덕']\n",
        "나이 = [20,30,40, 50, 60]\n",
        "\n",
        "for name in 이름:\n",
        "    print(f'{name}님~ 안녕하세요.')\n",
        "\n",
        "print('종료')\n"
      ]
    },
    {
      "cell_type": "code",
      "execution_count": null,
      "metadata": {
        "id": "htargNt-HZkU",
        "outputId": "a060cac8-a863-4255-fa2e-5a980b74d0b4"
      },
      "outputs": [
        {
          "name": "stdout",
          "output_type": "stream",
          "text": [
            "이름 : 홍길동, 나이 : 20\n",
            "이름 : 이순신, 나이 : 30\n",
            "이름 : 강감찬, 나이 : 40\n",
            "이름 : 권율, 나이 : 50\n",
            "이름 : 을지문덕, 나이 : 60\n",
            "종료\n"
          ]
        }
      ],
      "source": [
        "# 이름과 나이 출력\n",
        "# range() 함수 사용: 숫자 범위를 만들어주는 함수\n",
        "# range(시작숫자, 끝숫자, 증가값) => range(5): [0,1,2,3,4]\n",
        "# range(2,5): [2,3,4], range(1,10,2): [1,3,5,7,9]\n",
        "\n",
        "이름 =['홍길동','이순신','강감찬', '권율', '을지문덕']\n",
        "나이 = [20, 30, 40, 50, 60]\n",
        "\n",
        "for i in range(len(이름)):\n",
        "    print(f'이름 : {이름[i]}, 나이 : {나이[i]}')\n",
        "\n",
        "print('종료')"
      ]
    },
    {
      "cell_type": "code",
      "execution_count": null,
      "metadata": {
        "id": "7gDc29YFHZkU",
        "outputId": "2d8dae44-07b0-456f-92d9-3e46951e5a44"
      },
      "outputs": [
        {
          "name": "stdout",
          "output_type": "stream",
          "text": [
            "== 1단 ==\n",
            "1 x 1 = 1\n",
            "1 x 2 = 2\n",
            "1 x 3 = 3\n",
            "1 x 4 = 4\n",
            "1 x 5 = 5\n",
            "1 x 6 = 6\n",
            "1 x 7 = 7\n",
            "1 x 8 = 8\n",
            "1 x 9 = 9\n",
            "== 2단 ==\n",
            "2 x 1 = 2\n",
            "2 x 2 = 4\n",
            "2 x 3 = 6\n",
            "2 x 4 = 8\n",
            "2 x 5 = 10\n",
            "2 x 6 = 12\n",
            "2 x 7 = 14\n",
            "2 x 8 = 16\n",
            "2 x 9 = 18\n",
            "== 3단 ==\n",
            "3 x 1 = 3\n",
            "3 x 2 = 6\n",
            "3 x 3 = 9\n",
            "3 x 4 = 12\n",
            "3 x 5 = 15\n",
            "3 x 6 = 18\n",
            "3 x 7 = 21\n",
            "3 x 8 = 24\n",
            "3 x 9 = 27\n",
            "== 4단 ==\n",
            "4 x 1 = 4\n",
            "4 x 2 = 8\n",
            "4 x 3 = 12\n",
            "4 x 4 = 16\n",
            "4 x 5 = 20\n",
            "4 x 6 = 24\n",
            "4 x 7 = 28\n",
            "4 x 8 = 32\n",
            "4 x 9 = 36\n",
            "== 5단 ==\n",
            "5 x 1 = 5\n",
            "5 x 2 = 10\n",
            "5 x 3 = 15\n",
            "5 x 4 = 20\n",
            "5 x 5 = 25\n",
            "5 x 6 = 30\n",
            "5 x 7 = 35\n",
            "5 x 8 = 40\n",
            "5 x 9 = 45\n",
            "end\n"
          ]
        }
      ],
      "source": [
        "# 이중 for문을 이용하여 구구단을 출력하는 코드를 작성하시오.\n",
        "# 1단 5단까지만 출력하시오.\n",
        "\n",
        "for i in range(1, 6):\n",
        "    print(f'== {i}단 ==')\n",
        "\n",
        "    for j in range(1, 10):\n",
        "        print(f'{i} x {j} = {i*j}')\n",
        "\n",
        "print('end')"
      ]
    },
    {
      "cell_type": "code",
      "execution_count": null,
      "metadata": {
        "id": "Y44ktjrdHZkV",
        "outputId": "8dbfa140-6c69-44d8-b2e7-16b40fba64a5"
      },
      "outputs": [
        {
          "name": "stdout",
          "output_type": "stream",
          "text": [
            "[22, 22, 33, 30]\n",
            "[7, 1, 1, 1]\n"
          ]
        }
      ],
      "source": [
        "# indata의 입력값이 총 4개의 리스트로 구성되어 있음\n",
        "# 각 입력 리스트에서 가장 큰 값과 가장 작은 값을 찾아서 변수에 자장 후 출력\n",
        "\n",
        "indata = [[20,15,22,13,10,7,8,15,22,17],\n",
        "          [17,22,13,1,8,22,20],\n",
        "          [33,27,12,3,1,14,5,19,31],\n",
        "          [30,25,22,21,17,24,19,15,12,11,8,5,3,1]]\n",
        "\n",
        "maxs = [] # 각 입력 리스트에서 가장 큰 값 저장\n",
        "mins = [] # 각 입력 리스트에서 가장 작은 값 저장\n",
        "\n",
        "for items in indata:\n",
        "    in_max=items[0] # 첫번째 값을 최대값으로 초기화\n",
        "    in_min=items[0] # 첫번째 값을 최소값으로 초기화\n",
        "    for item in items:\n",
        "        # 최대값 찾기\n",
        "        if item > in_max:\n",
        "            in_max = item\n",
        "\n",
        "        # 최소값 찾기\n",
        "        if item < in_min:\n",
        "            in_min = item\n",
        "\n",
        "    maxs.append(in_max)\n",
        "    mins.append(in_min)\n",
        "\n",
        "print(maxs)\n",
        "print(mins)"
      ]
    },
    {
      "cell_type": "code",
      "execution_count": null,
      "metadata": {
        "id": "OZ_knym_HZkV",
        "outputId": "97bc16e7-ee50-466b-d9cb-e7c75df9b459"
      },
      "outputs": [
        {
          "name": "stdout",
          "output_type": "stream",
          "text": [
            "[22, 22, 33, 30]\n",
            "[7, 1, 1, 1]\n"
          ]
        }
      ],
      "source": [
        "# indata의 입력값이 총 4개의 리스트로 구성되어 있음\n",
        "# 각 입력 리스트에서 가장 큰 값과 가장 작은 값을 찾아서 변수에 자장 후 출력\n",
        "# range() 함수를 사용하여 for문을 작성\n",
        "\n",
        "indata = [[20,15,22,13,10,7,8,15,22,17],\n",
        "          [17,22,13,1,8,22,20],\n",
        "          [33,27,12,3,1,14,5,19,31],\n",
        "          [30,25,22,21,17,24,19,15,12,11,8,5,3,1]]\n",
        "\n",
        "maxs = [] # 각 입력 리스트에서 가장 큰 값 저장\n",
        "mins = [] # 각 입력 리스트에서 가장 작은 값 저장\n",
        "\n",
        "for i in range(len(indata)):\n",
        "    in_max = indata[i][0]\n",
        "    in_min = indata[i][0]\n",
        "    for j in range(len(indata[i])):\n",
        "        # 최대값 찾기\n",
        "        if indata[i][j] > in_max:\n",
        "            in_max = indata[i][j]\n",
        "\n",
        "        # 최소값 찾기\n",
        "        if indata[i][j] < in_min:\n",
        "            in_min = indata[i][j]\n",
        "\n",
        "    maxs.append(in_max)\n",
        "    mins.append(in_min)\n",
        "\n",
        "print(maxs)\n",
        "print(mins)\n"
      ]
    },
    {
      "cell_type": "code",
      "execution_count": null,
      "metadata": {
        "id": "aimJqoZJHZkV"
      },
      "outputs": [],
      "source": []
    }
  ],
  "metadata": {
    "colab": {
      "provenance": []
    },
    "kernelspec": {
      "display_name": "Python 3",
      "language": "python",
      "name": "python3"
    },
    "language_info": {
      "codemirror_mode": {
        "name": "ipython",
        "version": 3
      },
      "file_extension": ".py",
      "mimetype": "text/x-python",
      "name": "python",
      "nbconvert_exporter": "python",
      "pygments_lexer": "ipython3",
      "version": "3.11.4 (v3.11.4:d2340ef257, Jun  6 2023, 19:15:51) [Clang 13.0.0 (clang-1300.0.29.30)]"
    },
    "orig_nbformat": 4,
    "vscode": {
      "interpreter": {
        "hash": "aee8b7b246df8f9039afb4144a1f6fd8d2ca17a180786b69acc140d282b71a49"
      }
    }
  },
  "nbformat": 4,
  "nbformat_minor": 0
}
