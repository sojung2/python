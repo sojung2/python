{
 "cells": [
  {
   "attachments": {},
   "cell_type": "markdown",
   "metadata": {},
   "source": [
    "스택 - 삽입,삭제연산시 후입선출로 이뤄지는 자료구조 \n",
    "깊이 우선탐색(DFS:depth first search) \n",
    "\n",
    "큐 \n",
    "- 너비 우선 탐색 "
   ]
  },
  {
   "cell_type": "code",
   "execution_count": 4,
   "metadata": {},
   "outputs": [
    {
     "name": "stdout",
     "output_type": "stream",
     "text": [
      "1 [3]\n",
      "+\n",
      "+\n",
      "+\n",
      "-\n"
     ]
    }
   ],
   "source": [
    "n = int(input())\n",
    "A = list(map(int, input().split()))\n",
    "\n",
    "A = [0] *n\n",
    "\n",
    "for i in range(n):\n",
    "    A[i] = int(input())\n",
    "\n",
    "print(n,A)\n",
    "\n",
    "stack=[]    #스택으로 사용할 리스트\n",
    "num = 1     #1부터 N 까지 오름차순으로 push할 변수\n",
    "result =True\n",
    "answer=''\n",
    "\n",
    "for i in range(n):\n",
    "    suNo = A[i]\n",
    "    if suNo >= num:\n",
    "        while num <= suNo:\n",
    "            stack.append(num)  #스택에 push\n",
    "            num +=1            #다음 수를 Push 하기 위해 1 증가\n",
    "            answer += '+\\n'      #push 했으므로 + 출력\n",
    "        stack.pop()\n",
    "        answer += '-'\n",
    "    else:\n",
    "        n=stack.pop()\n",
    "        if n > suNo:\n",
    "            print('NO')\n",
    "            result = False\n",
    "            break\n",
    "        else:\n",
    "            answer += '-\\n'\n",
    "            \n",
    "print(time.time() - sTime)\n",
    "\n",
    "if result:\n",
    "    print(answer)"
   ]
  },
  {
   "attachments": {},
   "cell_type": "markdown",
   "metadata": {},
   "source": [
    "큐를 이용한 카드게임 "
   ]
  },
  {
   "cell_type": "code",
   "execution_count": 5,
   "metadata": {},
   "outputs": [
    {
     "name": "stdout",
     "output_type": "stream",
     "text": [
      "5.507469177246094e-05\n",
      "4\n"
     ]
    }
   ],
   "source": [
    "#일반적인 리스트가 이런한 연산에 o(n)이 소요되는데 반해 데크는 o(1)로 접근가능 \n",
    "from collections import deque #양방향 큐 구현을 위한 라이브러리\n",
    "import time\n",
    "\n",
    "n = int(input())\n",
    "myQueue = deque()\n",
    "\n",
    "for i in range(1, n+1):\n",
    "    myQueue.append(i)\n",
    "    \n",
    "sTime = time.time()\n",
    "\n",
    "while len(myQueue) >1: #카드가 한장 남을때 까지 반복 \n",
    "    myQueue.popleft()  #맨 앞의 카드를 버림 \n",
    "    myQueue.append(myQueue.popleft()) #맨 앞의 카드를 맨 뒤로 옮김\n",
    "    \n",
    "print(time.time() -sTime)\n",
    "print(myQueue[0])\n"
   ]
  },
  {
   "cell_type": "code",
   "execution_count": null,
   "metadata": {},
   "outputs": [],
   "source": []
  }
 ],
 "metadata": {
  "kernelspec": {
   "display_name": "mtedu",
   "language": "python",
   "name": "python3"
  },
  "language_info": {
   "codemirror_mode": {
    "name": "ipython",
    "version": 3
   },
   "file_extension": ".py",
   "mimetype": "text/x-python",
   "name": "python",
   "nbconvert_exporter": "python",
   "pygments_lexer": "ipython3",
   "version": "3.10.12"
  },
  "orig_nbformat": 4,
  "vscode": {
   "interpreter": {
    "hash": "588d42612a175310e16e3e40c5d51c79655772fe530029a1fa784d8417955f4d"
   }
  }
 },
 "nbformat": 4,
 "nbformat_minor": 2
}
