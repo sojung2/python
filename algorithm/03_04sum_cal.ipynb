{
 "cells": [
  {
   "attachments": {},
   "cell_type": "markdown",
   "metadata": {},
   "source": [
    "수 N개가 주어졌을 때 i번째 수에서 j번째까지 합을 구하는 프로그램 "
   ]
  },
  {
   "cell_type": "code",
   "execution_count": 7,
   "metadata": {},
   "outputs": [
    {
     "ename": "AttributeError",
     "evalue": "'list' object has no attribute 'split'",
     "output_type": "error",
     "traceback": [
      "\u001b[0;31m---------------------------------------------------------------------------\u001b[0m",
      "\u001b[0;31mAttributeError\u001b[0m                            Traceback (most recent call last)",
      "Cell \u001b[0;32mIn[7], line 3\u001b[0m\n\u001b[1;32m      1\u001b[0m \u001b[39mimport\u001b[39;00m \u001b[39msys\u001b[39;00m\n\u001b[0;32m----> 3\u001b[0m suNo, quizNo \u001b[39m=\u001b[39m \u001b[39mmap\u001b[39m(\u001b[39mint\u001b[39m, \u001b[39minput\u001b[39;49m()\u001b[39m.\u001b[39;49msplit())\n\u001b[1;32m      4\u001b[0m numbers \u001b[39m=\u001b[39m \u001b[39mlist\u001b[39m(\u001b[39mmap\u001b[39m(\u001b[39mint\u001b[39m, \u001b[39minput\u001b[39m()\u001b[39m.\u001b[39msplit()))\n\u001b[1;32m      5\u001b[0m prefix_sum \u001b[39m=\u001b[39m [\u001b[39m0\u001b[39m]\n",
      "\u001b[0;31mAttributeError\u001b[0m: 'list' object has no attribute 'split'"
     ]
    }
   ],
   "source": [
    "import sys\n",
    "\n",
    "suNo, quizNo = map(int, input().split())\n",
    "numbers = list(map(int, input().split()))\n",
    "prefix_sum = [0]\n",
    "temp = 0\n",
    "\n",
    "for i in numbers: \n",
    "    temp = temp + i \n",
    "    prefix_sum.append(temp) # 합 배열 만들기\n",
    "    \n",
    "for i in range(quizNo): \n",
    "    s, e = map(int, input().split())\n",
    "    print(prefix_sum[e] - prefix_sum[s-1])"
   ]
  },
  {
   "cell_type": "code",
   "execution_count": null,
   "metadata": {},
   "outputs": [
    {
     "ename": "AttributeError",
     "evalue": "'list' object has no attribute 'split'",
     "output_type": "error",
     "traceback": [
      "\u001b[0;31m---------------------------------------------------------------------------\u001b[0m",
      "\u001b[0;31mAttributeError\u001b[0m                            Traceback (most recent call last)",
      "Cell \u001b[0;32mIn[4], line 7\u001b[0m\n\u001b[1;32m      1\u001b[0m \u001b[39m#n 배열(리스트)의 크기, 질의의 개수 입력 \u001b[39;00m\n\u001b[1;32m      2\u001b[0m \u001b[39m#a 배열에 대한 값, D 배열에 대한 합 \u001b[39;00m\n\u001b[1;32m      3\u001b[0m \u001b[39m#for문을 통해 a 배열의 값을 입력\u001b[39;00m\n\u001b[1;32m      4\u001b[0m \u001b[39m# for 문을 통해 D 배열의 합계 입력\u001b[39;00m\n\u001b[1;32m      5\u001b[0m \u001b[39m# M 질의의 개수 만큼 For 문을 돌면서 결과 출력 \u001b[39;00m\n\u001b[0;32m----> 7\u001b[0m n, m \u001b[39m=\u001b[39m \u001b[39mmap\u001b[39m(\u001b[39mint\u001b[39m, \u001b[39minput\u001b[39;49m()\u001b[39m.\u001b[39;49msplit())\n\u001b[1;32m      8\u001b[0m A \u001b[39m=\u001b[39m [[\u001b[39m0\u001b[39m] \u001b[39m*\u001b[39m (n\u001b[39m+\u001b[39m\u001b[39m1\u001b[39m)]\n\u001b[1;32m      9\u001b[0m D \u001b[39m=\u001b[39m [[\u001b[39m0\u001b[39m] \u001b[39m*\u001b[39m (n\u001b[39m+\u001b[39m\u001b[39m1\u001b[39m)\u001b[39mfor\u001b[39;00m _ \u001b[39min\u001b[39;00m \u001b[39mrange\u001b[39m(n\u001b[39m+\u001b[39m\u001b[39m1\u001b[39m)]\n",
      "\u001b[0;31mAttributeError\u001b[0m: 'list' object has no attribute 'split'"
     ]
    }
   ],
   "source": [
    "# 1. n 배열(리스트)의 크기, m 질의의 개수 입력\n",
    "# 2. A 배열에 대한 값, D 배열에 대한 합\n",
    "# 3 for문을 통해 A 배열의 값들 입력\n",
    "# 4 for문을 통해 D 배열의 합계 입력\n",
    "# 5. m 질의의 개수만큼 for문을 돌면서 결과 출력\n",
    "\n",
    "\n",
    "# 2차원 배열 크기 및 구간 합 질의 갯수 입력\n",
    "n, m = map(int, input().split())\n",
    "A = [[0] * (n + 1)]\n",
    "D = [[0] * (n + 1) for _ in range(n + 1)]\n",
    "\n",
    "# print(A, D)\n"
   ]
  },
  {
   "cell_type": "code",
   "execution_count": null,
   "metadata": {},
   "outputs": [],
   "source": [
    "# A 배열 데이터 생성\n",
    "for i in range(n):\n",
    "    A.append([0] + list(map(int, input().split()))) # \n",
    "\n",
    "print(A)"
   ]
  },
  {
   "cell_type": "code",
   "execution_count": null,
   "metadata": {},
   "outputs": [],
   "source": [
    "# D 합계 배열 생성\n",
    "for i in range(1, n + 1):\n",
    "    for j in range(1, n + 1):\n",
    "        # 합 배열 생성\n",
    "        D[i][j] = D[i][j - 1] + D[i - 1][j] - D[i - 1][j - 1] + A[i][j]\n",
    "        \n",
    "print(D)"
   ]
  },
  {
   "cell_type": "code",
   "execution_count": null,
   "metadata": {},
   "outputs": [],
   "source": [
    "# 구간 배열 결과 출력\n",
    "for i in range(m):\n",
    "    x1, y1, x2, y2 = map(int, input().split())\n",
    "    # 구간 합 배열로 질의 결과 출력\n",
    "    result = D[x2][y2] - D[x1-1][y2] - D[x2][y1-1] + D[x1-1][y1-1]\n",
    "    print(result)"
   ]
  },
  {
   "cell_type": "code",
   "execution_count": null,
   "metadata": {},
   "outputs": [],
   "source": [
    "# 데이터 경과 확인용(실전에서는 필요 없음)\n",
    "import numpy as np\n",
    "print(np.array(A))\n",
    "print()\n",
    "print(np.array(D))"
   ]
  },
  {
   "cell_type": "code",
   "execution_count": null,
   "metadata": {},
   "outputs": [],
   "source": [
    "# 2차원 배열 크기 및 구간 합 질의 갯수 입력\n",
    "n, m = map(int, input().split())\n",
    "A = [[0] * (n + 1)]\n",
    "D = [[0] * (n + 1) for _ in range(n + 1)]\n",
    "\n",
    "# A 배열 데이터 생성\n",
    "for i in range(n):\n",
    "    A.append([0] + list(map(int, input().split()))) \n",
    "    \n",
    "# D 합계 배열 생성\n",
    "for i in range(1, n + 1):\n",
    "    for j in range(1, n + 1):\n",
    "        # 합 배열 생성\n",
    "        D[i][j] = D[i][j - 1] + D[i - 1][j] - D[i - 1][j - 1] + A[i][j]\n",
    "        \n",
    "# 구간 배열 결과 출력\n",
    "for i in range(m):\n",
    "    x1, y1, x2, y2 = map(int, input().split())\n",
    "    # 구간 합 배열로 질의 결과 출력\n",
    "    result = D[x2][y2] - D[x1-1][y2] - D[x2][y1-1] + D[x1-1][y1-1]\n",
    "    print(result)"
   ]
  }
 ],
 "metadata": {
  "kernelspec": {
   "display_name": "mtedu",
   "language": "python",
   "name": "python3"
  },
  "language_info": {
   "codemirror_mode": {
    "name": "ipython",
    "version": 3
   },
   "file_extension": ".py",
   "mimetype": "text/x-python",
   "name": "python",
   "nbconvert_exporter": "python",
   "pygments_lexer": "ipython3",
   "version": "3.10.12 (main, Jul  5 2023, 15:02:25) [Clang 14.0.6 ]"
  },
  "orig_nbformat": 4,
  "vscode": {
   "interpreter": {
    "hash": "588d42612a175310e16e3e40c5d51c79655772fe530029a1fa784d8417955f4d"
   }
  }
 },
 "nbformat": 4,
 "nbformat_minor": 2
}
