{
 "cells": [
  {
   "attachments": {},
   "cell_type": "markdown",
   "metadata": {},
   "source": [
    "### 숫자찾기 게임\n",
    "1. 특정 숫자를 발생시키기\n",
    "2. 발생한 숫자를 찾아서 맞추는 코드 작성 "
   ]
  },
  {
   "cell_type": "code",
   "execution_count": 3,
   "metadata": {},
   "outputs": [
    {
     "name": "stdout",
     "output_type": "stream",
     "text": [
      "27\n",
      "27 찾았다\n",
      "27 번만에 찾았다.\n"
     ]
    }
   ],
   "source": [
    "import random # 무작위로 데이터를 만들기 위해 사용 \n",
    "\n",
    "findNumber = random.randrange(1, 101) # 1~100사이 임의의 숫자 발생\n",
    "cnt = 1\n",
    "print(findNumber)\n",
    "\n",
    "for i in range(1, 101):\n",
    "    if i == findNumber:\n",
    "        print(i,'찾았다')\n",
    "        print(cnt,'번만에 찾았다.')\n",
    "        break\n",
    "    cnt += 1\n",
    "    "
   ]
  },
  {
   "attachments": {},
   "cell_type": "markdown",
   "metadata": {},
   "source": [
    "슈도코드(글로쓰기)\n",
    "N : 과목수 입력\n",
    "scoreList : 점수 정보 저장\n",
    "maxScore : 점수(scoreList)에서 최대값 저장\n",
    "sum : scoreList의 점수 합계\n",
    "sum x 100 / maxScore / N\n",
    "map(int,input('점수입력:').split()) : 한줄로 정수를 각각 입력하여 띄어쓰기를 기준으로 배열을 만들어줌"
   ]
  },
  {
   "cell_type": "code",
   "execution_count": 4,
   "metadata": {},
   "outputs": [
    {
     "name": "stdout",
     "output_type": "stream",
     "text": [
      "33.333333333333336\n"
     ]
    }
   ],
   "source": [
    "\n",
    "n = input('과목수:')\n",
    "scoreList= list (map(int,input('정수입력').split()))\n",
    "maxScore=max(scoreList)\n",
    "sum=sum(scoreList)\n",
    "\n",
    "print(sum*100/maxScore/int(n))"
   ]
  },
  {
   "cell_type": "code",
   "execution_count": 5,
   "metadata": {},
   "outputs": [
    {
     "data": {
      "text/plain": [
       "[1]"
      ]
     },
     "execution_count": 5,
     "metadata": {},
     "output_type": "execute_result"
    }
   ],
   "source": [
    "list(map(int,input('점수입력:').split()))"
   ]
  },
  {
   "attachments": {},
   "cell_type": "markdown",
   "metadata": {},
   "source": [
    "수정된점수, 평균점수 각각 출력 \n",
    "- 기존 점수 scoreList 에 수정값 저장"
   ]
  },
  {
   "cell_type": "code",
   "execution_count": null,
   "metadata": {},
   "outputs": [],
   "source": [
    "# 1. 과목수 입력 => n\n",
    "# 2. n개의 과목에 대한 점수를 입력받아서 리스트에 저장 => scoreList\n",
    "# 3. 최고 점수 확인 => maxScore\n",
    "# 4. 리스트 점수를 이용해 새로운 리스트를 생성 => scoreList\n",
    "# 5. 새로운 리스트를 이용해 총점과 평균을 계산\n",
    "# 6. 새로운 점수와 평균 출력\n",
    "\n",
    "# 코드 생성\n",
    "n = int(input('과목수:'))\n",
    "scoreList = list(map(int,input('점수입력:').split()))\n",
    "maxScore = max(scoreList)\n",
    "\n",
    "for i in range(n):     # for i in scoreList: (x)\n",
    "    scoreList[i] = int(scoreList[i]/maxScore*100)\n",
    "    \n",
    "userSum = sum(scoreList)\n",
    "\n",
    "for i in range(n):\n",
    "    print(scoreList[i])\n",
    "print(userSum/n)"
   ]
  },
  {
   "cell_type": "code",
   "execution_count": null,
   "metadata": {},
   "outputs": [],
   "source": []
  },
  {
   "cell_type": "code",
   "execution_count": null,
   "metadata": {},
   "outputs": [],
   "source": []
  }
 ],
 "metadata": {
  "kernelspec": {
   "display_name": "mtedu",
   "language": "python",
   "name": "python3"
  },
  "language_info": {
   "codemirror_mode": {
    "name": "ipython",
    "version": 3
   },
   "file_extension": ".py",
   "mimetype": "text/x-python",
   "name": "python",
   "nbconvert_exporter": "python",
   "pygments_lexer": "ipython3",
   "version": "3.10.12 (main, Jul  5 2023, 15:02:25) [Clang 14.0.6 ]"
  },
  "orig_nbformat": 4,
  "vscode": {
   "interpreter": {
    "hash": "588d42612a175310e16e3e40c5d51c79655772fe530029a1fa784d8417955f4d"
   }
  }
 },
 "nbformat": 4,
 "nbformat_minor": 2
}
