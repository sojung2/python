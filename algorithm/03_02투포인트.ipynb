{
 "cells": [
  {
   "cell_type": "code",
   "execution_count": 2,
   "metadata": {},
   "outputs": [
    {
     "name": "stdout",
     "output_type": "stream",
     "text": [
      "3 0.00032591819763183594\n"
     ]
    }
   ],
   "source": [
    "# 코드 구현 \n",
    "import time\n",
    "\n",
    "n = int(input()) # 데이터의 개수 n\n",
    "cnt = 1\n",
    "sindex = 1\n",
    "eindex = 1\n",
    "Sum =1 \n",
    "\n",
    "start_time = time.time()\n",
    "while eindex != n:\n",
    "    if Sum == n:\n",
    "        cnt += 1\n",
    "        eindex += 1\n",
    "        Sum += eindex \n",
    "    elif Sum > n:\n",
    "        Sum -= sindex \n",
    "        sindex += 1\n",
    "    else:\n",
    "        eindex += 1\n",
    "        Sum += eindex\n",
    "        \n",
    "end_time=time.time()        \n",
    "\n",
    "print(cnt, end_time-start_time)\n",
    "\n"
   ]
  },
  {
   "cell_type": "code",
   "execution_count": null,
   "metadata": {},
   "outputs": [],
   "source": []
  }
 ],
 "metadata": {
  "kernelspec": {
   "display_name": "mtedu",
   "language": "python",
   "name": "python3"
  },
  "language_info": {
   "codemirror_mode": {
    "name": "ipython",
    "version": 3
   },
   "file_extension": ".py",
   "mimetype": "text/x-python",
   "name": "python",
   "nbconvert_exporter": "python",
   "pygments_lexer": "ipython3",
   "version": "3.10.12 (main, Jul  5 2023, 15:02:25) [Clang 14.0.6 ]"
  },
  "orig_nbformat": 4,
  "vscode": {
   "interpreter": {
    "hash": "588d42612a175310e16e3e40c5d51c79655772fe530029a1fa784d8417955f4d"
   }
  }
 },
 "nbformat": 4,
 "nbformat_minor": 2
}
