{
 "cells": [
  {
   "cell_type": "code",
   "execution_count": 2,
   "metadata": {},
   "outputs": [
    {
     "data": {
      "text/plain": [
       "'!!!!python!!!!'"
      ]
     },
     "execution_count": 2,
     "metadata": {},
     "output_type": "execute_result"
    }
   ],
   "source": [
    "f'{\"python\":!^14}'"
   ]
  },
  {
   "cell_type": "code",
   "execution_count": 3,
   "metadata": {},
   "outputs": [
    {
     "data": {
      "text/plain": [
       "2"
      ]
     },
     "execution_count": 3,
     "metadata": {},
     "output_type": "execute_result"
    }
   ],
   "source": [
    "a = \"hobby\"\n",
    "a.count('b')"
   ]
  },
  {
   "cell_type": "code",
   "execution_count": 4,
   "metadata": {},
   "outputs": [
    {
     "data": {
      "text/plain": [
       "-1"
      ]
     },
     "execution_count": 4,
     "metadata": {},
     "output_type": "execute_result"
    }
   ],
   "source": [
    "a = \"Python is the best choice\"\n",
    "a.find('b')\n",
    "a.find('k')"
   ]
  },
  {
   "cell_type": "code",
   "execution_count": 8,
   "metadata": {},
   "outputs": [
    {
     "name": "stdout",
     "output_type": "stream",
     "text": [
      "285\n",
      "28.5\n"
     ]
    }
   ],
   "source": [
    "a=[70, 60, 55, 75, 95, 90, 80, 80, 85, 100]\n",
    "\n",
    "total=0\n",
    "\n",
    "for i in a:\n",
    "    if i >= 90:\n",
    "        total+=i\n",
    "        \n",
    "aver=total/len(a)       \n",
    "\n",
    "print(total)\n",
    "print(aver)\n",
    "\n"
   ]
  },
  {
   "cell_type": "code",
   "execution_count": 40,
   "metadata": {},
   "outputs": [
    {
     "name": "stdout",
     "output_type": "stream",
     "text": [
      "[429, 790, 488]\n"
     ]
    },
    {
     "ename": "TypeError",
     "evalue": "'<' not supported between instances of 'int' and 'list'",
     "output_type": "error",
     "traceback": [
      "\u001b[0;31m---------------------------------------------------------------------------\u001b[0m",
      "\u001b[0;31mTypeError\u001b[0m                                 Traceback (most recent call last)",
      "Cell \u001b[0;32mIn[40], line 20\u001b[0m\n\u001b[1;32m     18\u001b[0m \u001b[39mmin\u001b[39m \u001b[39m=\u001b[39m\u001b[39m0\u001b[39m\n\u001b[1;32m     19\u001b[0m \u001b[39mmax\u001b[39m \u001b[39m=\u001b[39m \u001b[39m0\u001b[39m\n\u001b[0;32m---> 20\u001b[0m \u001b[39mif\u001b[39;00m \u001b[39mmin\u001b[39;49m\u001b[39m<\u001b[39;49mh:\n\u001b[1;32m     21\u001b[0m     \u001b[39mmin\u001b[39m\u001b[39m=\u001b[39mh\n\u001b[1;32m     22\u001b[0m \u001b[39melif\u001b[39;00m \u001b[39mmax\u001b[39m\u001b[39m>\u001b[39mh:\n",
      "\u001b[0;31mTypeError\u001b[0m: '<' not supported between instances of 'int' and 'list'"
     ]
    }
   ],
   "source": [
    "data=[[80,40,14,15,45,47,45,45,78,20], [70, 60, 55, 75, 95, 90, 80, 80, 85, 100], [20,28,40,70,70,20,20,70,70,80]]\n",
    "\n",
    "sum = []\n",
    "\n",
    "for i in data:\n",
    "    k = 0\n",
    "\n",
    "    for j in i: \n",
    "        k+=j\n",
    "      \n",
    "    sum.append(k)\n",
    "    \n",
    "print(sum)\n",
    "\n",
    "total=0; cnt=0\n",
    "\n",
    "sublist=[]\n",
    "total=0;tmax=data[0][0];tmin=data[0][0]\n",
    "\n",
    "for subdata in data:\n",
    "    submax=subdata[0];submin=subdata[0];subtot=0\n",
    "    for nm in subdata:\n",
    "        subtot=subtot+nm\n",
    "        if nm > submax:\n",
    "            submax=nm\n",
    "        if nm < submin :\n",
    "            submin=nm\n",
    "\n",
    "    sublist.append([submax, submin, subtot])\n",
    "    total+=subtot\n",
    "    if submax > tmax: tmax=submax\n",
    "    if submin < tmin: tmin=submin\n",
    "\n",
    "cnt=0\n",
    "for prn in sublist:\n",
    "    print(f\"▶ {cnt+1}번째 자료 ===> {data[cnt]}\\n   최대값 ==> {prn[0]}, 최소값 ==> {prn[1]}, 합계 ==> {prn[2]}\\n\")\n",
    "    cnt=+1\n",
    "   \n",
    "print(\"▶ 전체 데이터\")\n",
    "print(f\"   최대값 ==> {tmax}, 최소값 ==> {tmin}, 전체합계 ==> {total}\")"
   ]
  },
  {
   "cell_type": "markdown",
   "metadata": {},
   "source": []
  },
  {
   "cell_type": "code",
   "execution_count": null,
   "metadata": {},
   "outputs": [],
   "source": [
    "pumMok=[]\n",
    "\n",
    "append "
   ]
  },
  {
   "cell_type": "code",
   "execution_count": null,
   "metadata": {},
   "outputs": [],
   "source": []
  }
 ],
 "metadata": {
  "kernelspec": {
   "display_name": "mtedu",
   "language": "python",
   "name": "python3"
  },
  "language_info": {
   "codemirror_mode": {
    "name": "ipython",
    "version": 3
   },
   "file_extension": ".py",
   "mimetype": "text/x-python",
   "name": "python",
   "nbconvert_exporter": "python",
   "pygments_lexer": "ipython3",
   "version": "3.10.12 (main, Jul  5 2023, 15:02:25) [Clang 14.0.6 ]"
  },
  "orig_nbformat": 4,
  "vscode": {
   "interpreter": {
    "hash": "588d42612a175310e16e3e40c5d51c79655772fe530029a1fa784d8417955f4d"
   }
  }
 },
 "nbformat": 4,
 "nbformat_minor": 2
}
