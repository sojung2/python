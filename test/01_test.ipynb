{
 "cells": [
  {
   "cell_type": "code",
   "execution_count": 1,
   "metadata": {},
   "outputs": [
    {
     "name": "stdout",
     "output_type": "stream",
     "text": [
      "30의 약수: 1\n",
      "30의 약수: 2\n",
      "30의 약수: 3\n",
      "30의 약수: 5\n",
      "30의 약수: 6\n",
      "30의 약수: 10\n",
      "30의 약수: 15\n",
      "30의 약수: 30\n"
     ]
    }
   ],
   "source": [
    "# 약수 구하기.\n",
    "inputNumber =int(input('0보다 큰 정수 입력:'))\n",
    "\n",
    "for number in range(1, inputNumber + 1):\n",
    "    if inputNumber % number ==0:\n",
    "        print('{}의 약수: {}'. format(inputNumber, number))"
   ]
  },
  {
   "cell_type": "code",
   "execution_count": 3,
   "metadata": {},
   "outputs": [
    {
     "name": "stdout",
     "output_type": "stream",
     "text": [
      "2 : 소수\n",
      "3 : 소수\n",
      "4 : \t\t 합성수\n",
      "5 : 소수\n",
      "6 : \t\t 합성수\n",
      "7 : 소수\n",
      "8 : \t\t 합성수\n",
      "9 : \t\t 합성수\n",
      "10 : \t\t 합성수\n",
      "11 : 소수\n",
      "12 : \t\t 합성수\n",
      "13 : 소수\n",
      "14 : \t\t 합성수\n",
      "15 : \t\t 합성수\n",
      "16 : \t\t 합성수\n",
      "17 : 소수\n",
      "18 : \t\t 합성수\n",
      "19 : 소수\n",
      "20 : \t\t 합성수\n",
      "21 : \t\t 합성수\n",
      "22 : \t\t 합성수\n",
      "23 : 소수\n",
      "24 : \t\t 합성수\n",
      "25 : \t\t 합성수\n",
      "26 : \t\t 합성수\n",
      "27 : \t\t 합성수\n",
      "28 : \t\t 합성수\n",
      "29 : 소수\n",
      "30 : \t\t 합성수\n",
      "31 : 소수\n",
      "32 : \t\t 합성수\n",
      "33 : \t\t 합성수\n",
      "34 : \t\t 합성수\n",
      "35 : \t\t 합성수\n",
      "36 : \t\t 합성수\n",
      "37 : 소수\n",
      "38 : \t\t 합성수\n",
      "39 : \t\t 합성수\n",
      "40 : \t\t 합성수\n"
     ]
    }
   ],
   "source": [
    "# 소수 구하기\n",
    "inputNumber =int(input('0보다 큰 정수 입력:'))\n",
    "\n",
    "for number in range(2, inputNumber + 1):\n",
    "    flag = True\n",
    "    \n",
    "    for n in range(2, number):\n",
    "        if number % n == 0:\n",
    "            flag = False \n",
    "            break \n",
    "    \n",
    "    if flag:\n",
    "        print('{} : 소수'.format(number))\n",
    "    else:\n",
    "        print('{} : \\t\\t 합성수'.format(number))\n"
   ]
  },
  {
   "cell_type": "code",
   "execution_count": 4,
   "metadata": {},
   "outputs": [
    {
     "name": "stdout",
     "output_type": "stream",
     "text": [
      "소인수: 2\n",
      "소인수: 7\n"
     ]
    }
   ],
   "source": [
    "# 소인수 구하기 \n",
    "inputNumber =int(input('1보다 큰 정수 입력:'))\n",
    "\n",
    "n = 2\n",
    "while n <= inputNumber:\n",
    "    if inputNumber % n == 0:\n",
    "        print('소인수: {}'.format(n))\n",
    "        inputNumber  /= n\n",
    "    else:\n",
    "        n += 1\n",
    "        "
   ]
  },
  {
   "cell_type": "code",
   "execution_count": 5,
   "metadata": {},
   "outputs": [
    {
     "name": "stdout",
     "output_type": "stream",
     "text": [
      "소인수: 2\n",
      "소인수: 2\n",
      "소인수: 113\n",
      "searchNumbers: [113]\n"
     ]
    }
   ],
   "source": [
    "# 소인수 분해\n",
    "inputNumber =int(input('1보다 큰 정수 입력:'))\n",
    "\n",
    "n = 2\n",
    "searchNumbers = []\n",
    "\n",
    "while n <= inputNumber:\n",
    "    if inputNumber % n == 0:\n",
    "        print('소인수: {}'.format(n))\n",
    "        if searchNumbers.count(n) == 0:\n",
    "            searchNumbers.append(n)\n",
    "        elif searchNumbers.count(n) == 1:\n",
    "            searchNumbers.remove(n)\n",
    "        inputNumber  /= n\n",
    "    else:\n",
    "        n += 1\n",
    "        \n",
    "print('searchNumbers: {}'.format(searchNumbers))"
   ]
  },
  {
   "cell_type": "markdown",
   "metadata": {},
   "source": []
  }
 ],
 "metadata": {
  "kernelspec": {
   "display_name": "mtedu",
   "language": "python",
   "name": "python3"
  },
  "language_info": {
   "codemirror_mode": {
    "name": "ipython",
    "version": 3
   },
   "file_extension": ".py",
   "mimetype": "text/x-python",
   "name": "python",
   "nbconvert_exporter": "python",
   "pygments_lexer": "ipython3",
   "version": "3.10.12"
  },
  "orig_nbformat": 4,
  "vscode": {
   "interpreter": {
    "hash": "588d42612a175310e16e3e40c5d51c79655772fe530029a1fa784d8417955f4d"
   }
  }
 },
 "nbformat": 4,
 "nbformat_minor": 2
}
